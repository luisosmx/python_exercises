{
  "cells": [
    {
      "cell_type": "markdown",
      "metadata": {
        "id": "view-in-github",
        "colab_type": "text"
      },
      "source": [
        "<a href=\"https://colab.research.google.com/github/luisosmx/python_exercises/blob/main/Leccion_2_Textos.ipynb\" target=\"_parent\"><img src=\"https://colab.research.google.com/assets/colab-badge.svg\" alt=\"Open In Colab\"/></a>"
      ]
    },
    {
      "cell_type": "markdown",
      "source": [
        "#Textos\n",
        "Dadas cuatro variables con diferentes textos (cadena1, cadena2, cadena3 y cadena4) utiliza lo que has aprendido para generar una cadena5 con el siguiente contenido:\n",
        "\n",
        "Python es un lenguaje de programación moderno\n",
        "Debes generar el contenido de cadena5 utilizando como origen el texto de las 4 primeras y el único carácter literal que puedes escribir son espacios \" \""
      ],
      "metadata": {
        "id": "j0L3wkJ2aZnE"
      }
    },
    {
      "cell_type": "code",
      "source": [
        "cadena1 = \"moderno\"\n",
        "cadena2 = \"Python\"\n",
        "cadena4 = \"de programación\"\n",
        "cadena3 = \"es un lenguaje\"\n",
        "\n",
        "# completa el ejercicio"
      ],
      "metadata": {
        "id": "Fyr-YOGqajMM"
      },
      "execution_count": null,
      "outputs": []
    },
    {
      "cell_type": "markdown",
      "source": [
        "#Solucion"
      ],
      "metadata": {
        "id": "jQL80slsams2"
      }
    },
    {
      "cell_type": "code",
      "execution_count": null,
      "metadata": {
        "collapsed": true,
        "colab": {
          "base_uri": "https://localhost:8080/"
        },
        "id": "r4_y7qbaQRcs",
        "outputId": "84e9a954-2d7d-4956-cf6a-f422ded128ed"
      },
      "outputs": [
        {
          "output_type": "stream",
          "name": "stdout",
          "text": [
            "Python es un lenguaje de programación moderno\n"
          ]
        }
      ],
      "source": [
        "cadena1 = \"moderno\"\n",
        "cadena2 = \"Python\"\n",
        "cadena4 = \"de programación\"\n",
        "cadena3 = \"es un lenguaje\"\n",
        "\n",
        "# completa el ejercicio\n",
        "cadena5 = cadena2 +\" \"+ cadena3 +\" \"+ cadena4 +\" \"+ cadena1\n",
        "\n",
        "print(cadena5)\n",
        "\n"
      ]
    },
    {
      "cell_type": "markdown",
      "source": [
        "#Slicing\n",
        "Al realizar una consulta en un registro hemos obtenido una cadena de texto al revés. Al parecer contiene el nombre de un alumno, la nota de un exámen y la materia. Realiza lo siguiente:\n",
        "\n",
        "Voltea la cadena y guárdala en una variable llamada cadena_volteada. Puedes devolver una cadena volteada usando un tercer índice negativo con slicing tal que así: cadena[::-1]\n",
        "\n",
        "Extrae el nombre y apellido del alumno y almacénalos en una variable llamada nombre.\n",
        "\n",
        "Extrae la nota y almacénala en una variable llamada nota.\n",
        "\n",
        "Extrae la materia y almacénala en una variable llamada materia.\n",
        "\n",
        "Genera exactamente la siguiente estructura formateando las anteriores variables en una cadena llamada cadena_formateada donde nombre, nota y materia hacen referencia a las variables extraídas:\n",
        "\n",
        "{nombre} ha sacado un {nota} en {materia}\n",
        "Ejemplo:\n",
        "\n",
        "Ramón García ha sacado un 8.1 en Matemáticas\n",
        "Notas y consejos:\n",
        "\n",
        "Todas las variables del enunciado deben existir y contener el valor correcto para pasar las pruebas.\n",
        "\n",
        "Utiliza slicing para extraer las porciones de la cadena que te interesan.\n",
        "\n",
        "Crea tantas variables como necesites para hacerlo más sencillo."
      ],
      "metadata": {
        "id": "Fie9UN9ykKrH"
      }
    },
    {
      "cell_type": "code",
      "source": [
        "# Variables del ejercicio (no las modifiques)\n",
        "cadena_corrupta = \"airotsiH,6.7,aícraG nómaR\"\n",
        "cadena_volteada = cadena_corrupta[::-1]\n",
        "# Completa el ejercicio\n",
        "\n",
        "nombre = cadena_volteada[:12]\n",
        "nota = cadena_volteada[13:16]\n",
        "materia = cadena_volteada[17:]\n",
        "\n",
        "cadena_formateada = nombre + \" ha sacado un \" + nota + \" en \" + materia\n",
        "print(cadena_formateada)"
      ],
      "metadata": {
        "id": "HgS_HkUHWisI",
        "colab": {
          "base_uri": "https://localhost:8080/"
        },
        "outputId": "20f606e3-ed72-4091-d895-cc35a857d7a7"
      },
      "execution_count": 4,
      "outputs": [
        {
          "output_type": "stream",
          "name": "stdout",
          "text": [
            "Ramón García ha sacado un 7.6 en Historia\n"
          ]
        }
      ]
    },
    {
      "cell_type": "code",
      "source": [],
      "metadata": {
        "id": "3SkK9PJgm0ve"
      },
      "execution_count": null,
      "outputs": []
    }
  ],
  "metadata": {
    "anaconda-cloud": {},
    "kernelspec": {
      "display_name": "Python [default]",
      "language": "python",
      "name": "python3"
    },
    "language_info": {
      "codemirror_mode": {
        "name": "ipython",
        "version": 3
      },
      "file_extension": ".py",
      "mimetype": "text/x-python",
      "name": "python",
      "nbconvert_exporter": "python",
      "pygments_lexer": "ipython3",
      "version": "3.5.2"
    },
    "colab": {
      "provenance": [],
      "include_colab_link": true
    }
  },
  "nbformat": 4,
  "nbformat_minor": 0
}