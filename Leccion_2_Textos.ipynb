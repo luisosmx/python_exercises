{
  "cells": [
    {
      "cell_type": "markdown",
      "metadata": {
        "id": "view-in-github",
        "colab_type": "text"
      },
      "source": [
        "<a href=\"https://colab.research.google.com/github/luisosmx/python_exercises/blob/main/Leccion_2_Textos.ipynb\" target=\"_parent\"><img src=\"https://colab.research.google.com/assets/colab-badge.svg\" alt=\"Open In Colab\"/></a>"
      ]
    },
    {
      "cell_type": "markdown",
      "source": [
        "#Textos\n",
        "Dadas cuatro variables con diferentes textos (cadena1, cadena2, cadena3 y cadena4) utiliza lo que has aprendido para generar una cadena5 con el siguiente contenido:\n",
        "\n",
        "Python es un lenguaje de programación moderno\n",
        "Debes generar el contenido de cadena5 utilizando como origen el texto de las 4 primeras y el único carácter literal que puedes escribir son espacios \" \""
      ],
      "metadata": {
        "id": "j0L3wkJ2aZnE"
      }
    },
    {
      "cell_type": "code",
      "source": [
        "cadena1 = \"moderno\"\n",
        "cadena2 = \"Python\"\n",
        "cadena4 = \"de programación\"\n",
        "cadena3 = \"es un lenguaje\"\n",
        "\n",
        "# completa el ejercicio"
      ],
      "metadata": {
        "id": "Fyr-YOGqajMM"
      },
      "execution_count": null,
      "outputs": []
    },
    {
      "cell_type": "markdown",
      "source": [
        "#Solucion"
      ],
      "metadata": {
        "id": "jQL80slsams2"
      }
    },
    {
      "cell_type": "code",
      "execution_count": 9,
      "metadata": {
        "collapsed": true,
        "colab": {
          "base_uri": "https://localhost:8080/"
        },
        "id": "r4_y7qbaQRcs",
        "outputId": "84e9a954-2d7d-4956-cf6a-f422ded128ed"
      },
      "outputs": [
        {
          "output_type": "stream",
          "name": "stdout",
          "text": [
            "Python es un lenguaje de programación moderno\n"
          ]
        }
      ],
      "source": [
        "cadena1 = \"moderno\"\n",
        "cadena2 = \"Python\"\n",
        "cadena4 = \"de programación\"\n",
        "cadena3 = \"es un lenguaje\"\n",
        "\n",
        "# completa el ejercicio\n",
        "cadena5 = cadena2 +\" \"+ cadena3 +\" \"+ cadena4 +\" \"+ cadena1\n",
        "\n",
        "print(cadena5)\n",
        "\n"
      ]
    },
    {
      "cell_type": "code",
      "source": [],
      "metadata": {
        "id": "HgS_HkUHWisI"
      },
      "execution_count": null,
      "outputs": []
    }
  ],
  "metadata": {
    "anaconda-cloud": {},
    "kernelspec": {
      "display_name": "Python [default]",
      "language": "python",
      "name": "python3"
    },
    "language_info": {
      "codemirror_mode": {
        "name": "ipython",
        "version": 3
      },
      "file_extension": ".py",
      "mimetype": "text/x-python",
      "name": "python",
      "nbconvert_exporter": "python",
      "pygments_lexer": "ipython3",
      "version": "3.5.2"
    },
    "colab": {
      "provenance": [],
      "include_colab_link": true
    }
  },
  "nbformat": 4,
  "nbformat_minor": 0
}