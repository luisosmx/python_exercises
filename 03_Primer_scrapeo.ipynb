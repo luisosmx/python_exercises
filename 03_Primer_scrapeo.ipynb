{
  "cells": [
    {
      "cell_type": "markdown",
      "metadata": {
        "id": "view-in-github",
        "colab_type": "text"
      },
      "source": [
        "<a href=\"https://colab.research.google.com/github/luisosmx/python_exercises/blob/main/03_Primer_scrapeo.ipynb\" target=\"_parent\"><img src=\"https://colab.research.google.com/assets/colab-badge.svg\" alt=\"Open In Colab\"/></a>"
      ]
    },
    {
      "cell_type": "markdown",
      "source": [
        "\n",
        "# Setup\n",
        "\n",
        "\n",
        "\n",
        "\n"
      ],
      "metadata": {
        "id": "E8fw7YM2eR14"
      },
      "id": "E8fw7YM2eR14"
    },
    {
      "cell_type": "code",
      "source": [
        "! pip install requests\n",
        "! pip install bs4"
      ],
      "metadata": {
        "colab": {
          "base_uri": "https://localhost:8080/"
        },
        "id": "m9oURF8LeSHv",
        "outputId": "f648d605-472a-426e-c097-644cea013f96"
      },
      "id": "m9oURF8LeSHv",
      "execution_count": 1,
      "outputs": [
        {
          "output_type": "stream",
          "name": "stdout",
          "text": [
            "Looking in indexes: https://pypi.org/simple, https://us-python.pkg.dev/colab-wheels/public/simple/\n",
            "Requirement already satisfied: requests in /usr/local/lib/python3.8/dist-packages (2.25.1)\n",
            "Requirement already satisfied: urllib3<1.27,>=1.21.1 in /usr/local/lib/python3.8/dist-packages (from requests) (1.24.3)\n",
            "Requirement already satisfied: certifi>=2017.4.17 in /usr/local/lib/python3.8/dist-packages (from requests) (2022.12.7)\n",
            "Requirement already satisfied: chardet<5,>=3.0.2 in /usr/local/lib/python3.8/dist-packages (from requests) (4.0.0)\n",
            "Requirement already satisfied: idna<3,>=2.5 in /usr/local/lib/python3.8/dist-packages (from requests) (2.10)\n",
            "Looking in indexes: https://pypi.org/simple, https://us-python.pkg.dev/colab-wheels/public/simple/\n",
            "Requirement already satisfied: bs4 in /usr/local/lib/python3.8/dist-packages (0.0.1)\n",
            "Requirement already satisfied: beautifulsoup4 in /usr/local/lib/python3.8/dist-packages (from bs4) (4.6.3)\n"
          ]
        }
      ]
    },
    {
      "cell_type": "markdown",
      "id": "7d3e80ce",
      "metadata": {
        "id": "7d3e80ce"
      },
      "source": [
        "# Primer scrapeo\n",
        "\n",
        "El proceso de scrapear una página web es parecido a lo que hace un humano cuando quiere buscar algo en Internet, la diferencia es que en lugar de ver el contenido presentado por el navegador, el programa analiza y selecciona el código fuente generalmente programado en  HTML y JavaScript.\n",
        "\n",
        "El primer paso es por tanto seleccionar una página web para hacer el scraping y descargarla. Ya sabemos cómo hacer peticiones HTTP mediante `requests` así que vamos a a hacer una petición de la web de ejemplo por excelencia:"
      ]
    },
    {
      "cell_type": "code",
      "execution_count": 1,
      "id": "26822a30",
      "metadata": {
        "id": "26822a30"
      },
      "outputs": [],
      "source": [
        "import requests\n",
        "\n",
        "req = requests.get(\"https://example.com\")"
      ]
    },
    {
      "cell_type": "markdown",
      "id": "552458ca",
      "metadata": {
        "id": "552458ca"
      },
      "source": [
        "El caso es que como respuesta a la petición se nos ha develto la página y podemos ver su código fuente en crudo:"
      ]
    },
    {
      "cell_type": "code",
      "execution_count": 2,
      "id": "178ec71d",
      "metadata": {
        "colab": {
          "base_uri": "https://localhost:8080/"
        },
        "id": "178ec71d",
        "outputId": "c71f1541-31c3-4036-83d5-c472263a7457"
      },
      "outputs": [
        {
          "output_type": "stream",
          "name": "stdout",
          "text": [
            "<!doctype html>\n",
            "<html>\n",
            "<head>\n",
            "    <title>Example Domain</title>\n",
            "\n",
            "    <meta charset=\"utf-8\" />\n",
            "    <meta http-equiv=\"Content-type\" content=\"text/html; charset=utf-8\" />\n",
            "    <meta name=\"viewport\" content=\"width=device-width, initial-scale=1\" />\n",
            "    <style type=\"text/css\">\n",
            "    body {\n",
            "        background-color: #f0f0f2;\n",
            "        margin: 0;\n",
            "        padding: 0;\n",
            "        font-family: -apple-system, system-ui, BlinkMacSystemFont, \"Segoe UI\", \"Open Sans\", \"Helvetica Neue\", Helvetica, Arial, sans-serif;\n",
            "        \n",
            "    }\n",
            "    div {\n",
            "        width: 600px;\n",
            "        margin: 5em auto;\n",
            "        padding: 2em;\n",
            "        background-color: #fdfdff;\n",
            "        border-radius: 0.5em;\n",
            "        box-shadow: 2px 3px 7px 2px rgba(0,0,0,0.02);\n",
            "    }\n",
            "    a:link, a:visited {\n",
            "        color: #38488f;\n",
            "        text-decoration: none;\n",
            "    }\n",
            "    @media (max-width: 700px) {\n",
            "        div {\n",
            "            margin: 0 auto;\n",
            "            width: auto;\n",
            "        }\n",
            "    }\n",
            "    </style>    \n",
            "</head>\n",
            "\n",
            "<body>\n",
            "<div>\n",
            "    <h1>Example Domain</h1>\n",
            "    <p>This domain is for use in illustrative examples in documents. You may use this\n",
            "    domain in literature without prior coordination or asking for permission.</p>\n",
            "    <p><a href=\"https://www.iana.org/domains/example\">More information...</a></p>\n",
            "</div>\n",
            "</body>\n",
            "</html>\n",
            "\n"
          ]
        }
      ],
      "source": [
        "print(req.text)"
      ]
    },
    {
      "cell_type": "markdown",
      "id": "6e51ea8c",
      "metadata": {
        "id": "6e51ea8c"
      },
      "source": [
        "Aquí tenemos un documento HTML bien estructurado con sus etiquetas.\n",
        "\n",
        "Cuando el navegador interpreta estas etiquetas que se abren y se cierran, con sus atributos y contenidos genera lo que se conoce como **DOM** (*Document Object Model*), una interfaz de programación para documentos HTML y XML que en esencia es como un árbol ramificado de  componentes padres e hijos. El padre de todo es `html`, que tiene dos hijos `head` y `body`, el primero contiene el `title` y los metadatos, el otro el contenido de la página, una capa `div` que a su vez tiene una cabecera `h1` y unos parágrados `p`.\n",
        "\n",
        "Pues bien, la biblioteca `BeautifulSoup` lo que hace es generar su propia estructura parecida a la interfaz **DOM** pero en Python, creando un árbol con los elementos del documento. Básicamente le pasamos un documento HTML en crudo y ella lo transforma en un objeto dinámico con el que podemos interactuar:"
      ]
    },
    {
      "cell_type": "code",
      "execution_count": 3,
      "id": "f6c9a40b",
      "metadata": {
        "colab": {
          "base_uri": "https://localhost:8080/"
        },
        "id": "f6c9a40b",
        "outputId": "f45cbb42-a15e-4c54-f4b7-716e42d0067a"
      },
      "outputs": [
        {
          "output_type": "stream",
          "name": "stdout",
          "text": [
            "<!DOCTYPE html>\n",
            "<html>\n",
            "<head>\n",
            "<title>Example Domain</title>\n",
            "<meta charset=\"utf-8\"/>\n",
            "<meta content=\"text/html; charset=utf-8\" http-equiv=\"Content-type\"/>\n",
            "<meta content=\"width=device-width, initial-scale=1\" name=\"viewport\"/>\n",
            "<style type=\"text/css\">\n",
            "    body {\n",
            "        background-color: #f0f0f2;\n",
            "        margin: 0;\n",
            "        padding: 0;\n",
            "        font-family: -apple-system, system-ui, BlinkMacSystemFont, \"Segoe UI\", \"Open Sans\", \"Helvetica Neue\", Helvetica, Arial, sans-serif;\n",
            "        \n",
            "    }\n",
            "    div {\n",
            "        width: 600px;\n",
            "        margin: 5em auto;\n",
            "        padding: 2em;\n",
            "        background-color: #fdfdff;\n",
            "        border-radius: 0.5em;\n",
            "        box-shadow: 2px 3px 7px 2px rgba(0,0,0,0.02);\n",
            "    }\n",
            "    a:link, a:visited {\n",
            "        color: #38488f;\n",
            "        text-decoration: none;\n",
            "    }\n",
            "    @media (max-width: 700px) {\n",
            "        div {\n",
            "            margin: 0 auto;\n",
            "            width: auto;\n",
            "        }\n",
            "    }\n",
            "    </style>\n",
            "</head>\n",
            "<body>\n",
            "<div>\n",
            "<h1>Example Domain</h1>\n",
            "<p>This domain is for use in illustrative examples in documents. You may use this\n",
            "    domain in literature without prior coordination or asking for permission.</p>\n",
            "<p><a href=\"https://www.iana.org/domains/example\">More information...</a></p>\n",
            "</div>\n",
            "</body>\n",
            "</html>\n",
            "\n"
          ]
        }
      ],
      "source": [
        "from bs4 import BeautifulSoup\n",
        "\n",
        "soup = BeautifulSoup(req.text)\n",
        "\n",
        "print(soup)"
      ]
    },
    {
      "cell_type": "markdown",
      "id": "bb39e0c5",
      "metadata": {
        "id": "bb39e0c5"
      },
      "source": [
        "A simple vista parece lo mismo, pero ahora podemos hacer algo como esto para consultar el título de la página:"
      ]
    },
    {
      "cell_type": "code",
      "execution_count": 4,
      "id": "4249c231",
      "metadata": {
        "colab": {
          "base_uri": "https://localhost:8080/"
        },
        "id": "4249c231",
        "outputId": "38605e22-0731-42f8-a6ff-75f92af39578"
      },
      "outputs": [
        {
          "output_type": "execute_result",
          "data": {
            "text/plain": [
              "[<title>Example Domain</title>]"
            ]
          },
          "metadata": {},
          "execution_count": 4
        }
      ],
      "source": [
        "soup.select(\"title\")"
      ]
    },
    {
      "cell_type": "markdown",
      "id": "f587527d",
      "metadata": {
        "id": "f587527d"
      },
      "source": [
        "Esto que nos devuelve es un objeto, veamos tu tipo:"
      ]
    },
    {
      "cell_type": "code",
      "execution_count": 5,
      "id": "ffe08602",
      "metadata": {
        "colab": {
          "base_uri": "https://localhost:8080/"
        },
        "id": "ffe08602",
        "outputId": "5ca10c09-b080-4ed6-9d0f-2544822c7d73"
      },
      "outputs": [
        {
          "output_type": "execute_result",
          "data": {
            "text/plain": [
              "list"
            ]
          },
          "metadata": {},
          "execution_count": 5
        }
      ],
      "source": [
        "type(soup.select(\"title\"))"
      ]
    },
    {
      "cell_type": "markdown",
      "id": "f74f3cc2",
      "metadata": {
        "id": "f74f3cc2"
      },
      "source": [
        "Es un conjunto de resultados que contiene los tags que concuerdan con el nombre `title`, por tanto es una lista.\n",
        "\n",
        "Veamos qué tipo tiene ese primer valor del conjunto:"
      ]
    },
    {
      "cell_type": "code",
      "execution_count": 6,
      "id": "24ffd5e4",
      "metadata": {
        "colab": {
          "base_uri": "https://localhost:8080/"
        },
        "id": "24ffd5e4",
        "outputId": "bbaccc9c-e36b-4057-b55b-b0fa6011d5ef"
      },
      "outputs": [
        {
          "output_type": "execute_result",
          "data": {
            "text/plain": [
              "bs4.element.Tag"
            ]
          },
          "metadata": {},
          "execution_count": 6
        }
      ],
      "source": [
        "type(soup.select(\"title\")[0])"
      ]
    },
    {
      "cell_type": "markdown",
      "id": "a2e1bce7",
      "metadata": {
        "id": "a2e1bce7"
      },
      "source": [
        "Como véis es un `Tag` y éste contiene diferentes métodos, como por ejemplo `getText()` para recuperar su contenido:"
      ]
    },
    {
      "cell_type": "code",
      "execution_count": 7,
      "id": "62c04bfc",
      "metadata": {
        "colab": {
          "base_uri": "https://localhost:8080/",
          "height": 35
        },
        "id": "62c04bfc",
        "outputId": "0f28f268-d104-4894-dce3-a14de8ce26bc"
      },
      "outputs": [
        {
          "output_type": "execute_result",
          "data": {
            "text/plain": [
              "'Example Domain'"
            ],
            "application/vnd.google.colaboratory.intrinsic+json": {
              "type": "string"
            }
          },
          "metadata": {},
          "execution_count": 7
        }
      ],
      "source": [
        "soup.select(\"title\")[0].getText()"
      ]
    },
    {
      "cell_type": "markdown",
      "id": "c76d5293",
      "metadata": {
        "id": "c76d5293"
      },
      "source": [
        "Podemos recuperar otros elementos esenciales como la cabecera o los parágrafos:"
      ]
    },
    {
      "cell_type": "code",
      "execution_count": 8,
      "id": "7f7cda90",
      "metadata": {
        "colab": {
          "base_uri": "https://localhost:8080/"
        },
        "id": "7f7cda90",
        "outputId": "1c706303-2e0e-440c-8b84-113e69c39055"
      },
      "outputs": [
        {
          "output_type": "execute_result",
          "data": {
            "text/plain": [
              "[<h1>Example Domain</h1>]"
            ]
          },
          "metadata": {},
          "execution_count": 8
        }
      ],
      "source": [
        "soup.select(\"h1\")"
      ]
    },
    {
      "cell_type": "code",
      "execution_count": 9,
      "id": "22b49dbe",
      "metadata": {
        "colab": {
          "base_uri": "https://localhost:8080/"
        },
        "id": "22b49dbe",
        "outputId": "e795776a-e161-4f81-8572-0e51d05fdedd"
      },
      "outputs": [
        {
          "output_type": "execute_result",
          "data": {
            "text/plain": [
              "[<p>This domain is for use in illustrative examples in documents. You may use this\n",
              "     domain in literature without prior coordination or asking for permission.</p>,\n",
              " <p><a href=\"https://www.iana.org/domains/example\">More information...</a></p>]"
            ]
          },
          "metadata": {},
          "execution_count": 9
        }
      ],
      "source": [
        "soup.select(\"p\")"
      ]
    },
    {
      "cell_type": "markdown",
      "id": "0f1ecf2e",
      "metadata": {
        "id": "0f1ecf2e"
      },
      "source": [
        "Fijaros que el segundo parágrafo contiene a su vez un enlace, podemos acceder de forma anidada:"
      ]
    },
    {
      "cell_type": "code",
      "execution_count": 10,
      "id": "e77b8330",
      "metadata": {
        "colab": {
          "base_uri": "https://localhost:8080/",
          "height": 35
        },
        "id": "e77b8330",
        "outputId": "0a264681-bad2-42e1-a599-ea569b3ae3b6"
      },
      "outputs": [
        {
          "output_type": "execute_result",
          "data": {
            "text/plain": [
              "'More information...'"
            ],
            "application/vnd.google.colaboratory.intrinsic+json": {
              "type": "string"
            }
          },
          "metadata": {},
          "execution_count": 10
        }
      ],
      "source": [
        "# Seleccionar del segundo parágrafo el primer enlace \n",
        "a = soup.select(\"p\")[1].select(\"a\")[0]\n",
        "\n",
        "# Mostrar su contenido\n",
        "a.getText()"
      ]
    },
    {
      "cell_type": "markdown",
      "id": "a319dea5",
      "metadata": {
        "id": "a319dea5"
      },
      "source": [
        "Las etiquetas tienen valores especiales llamados atributos, como la dirección `href` de un enlace. \n",
        "\n",
        "Estos se almacenan como un diccionario del objeto, es muy cómodo acceder a ellos:"
      ]
    },
    {
      "cell_type": "code",
      "execution_count": 11,
      "id": "4c214838",
      "metadata": {
        "colab": {
          "base_uri": "https://localhost:8080/",
          "height": 35
        },
        "id": "4c214838",
        "outputId": "a073e068-3120-44b5-de1f-2719874195e7"
      },
      "outputs": [
        {
          "output_type": "execute_result",
          "data": {
            "text/plain": [
              "'https://www.iana.org/domains/example'"
            ],
            "application/vnd.google.colaboratory.intrinsic+json": {
              "type": "string"
            }
          },
          "metadata": {},
          "execution_count": 11
        }
      ],
      "source": [
        "# Atributo con la dirección del enlace\n",
        "a['href']"
      ]
    },
    {
      "cell_type": "markdown",
      "id": "c08c248a",
      "metadata": {
        "id": "c08c248a"
      },
      "source": [
        "Estos valores están mapeados del diccionario `attrs`:"
      ]
    },
    {
      "cell_type": "code",
      "execution_count": 12,
      "id": "55291454",
      "metadata": {
        "colab": {
          "base_uri": "https://localhost:8080/"
        },
        "id": "55291454",
        "outputId": "7c130eda-95e8-481d-8523-13bb0d1ce089"
      },
      "outputs": [
        {
          "output_type": "execute_result",
          "data": {
            "text/plain": [
              "dict_items([('href', 'https://www.iana.org/domains/example')])"
            ]
          },
          "metadata": {},
          "execution_count": 12
        }
      ],
      "source": [
        "a.attrs.items()"
      ]
    },
    {
      "cell_type": "markdown",
      "id": "cef5b18b",
      "metadata": {
        "id": "cef5b18b"
      },
      "source": [
        "Siguiendo esta lógica podemos programar un script que recupere todos los atributos de los metadatos:"
      ]
    },
    {
      "cell_type": "code",
      "execution_count": 13,
      "id": "796019cc",
      "metadata": {
        "colab": {
          "base_uri": "https://localhost:8080/"
        },
        "id": "796019cc",
        "outputId": "5f9b1d14-252b-4d37-a208-fe95e6e4f9e3"
      },
      "outputs": [
        {
          "output_type": "stream",
          "name": "stdout",
          "text": [
            "charset: utf-8\n",
            "http-equiv: Content-type\n",
            "content: text/html; charset=utf-8\n",
            "name: viewport\n",
            "content: width=device-width, initial-scale=1\n"
          ]
        }
      ],
      "source": [
        "for meta in soup.select(\"meta\"):\n",
        "    for atributo, valor in meta.attrs.items():\n",
        "        print(f\"{atributo}: {valor}\")"
      ]
    },
    {
      "cell_type": "markdown",
      "id": "273a1c2b",
      "metadata": {
        "id": "273a1c2b"
      },
      "source": [
        "Solo con esto os podéis hacer una ideal del potencial que tiene."
      ]
    },
    {
      "cell_type": "code",
      "execution_count": null,
      "id": "6157e9b5",
      "metadata": {
        "id": "6157e9b5"
      },
      "outputs": [],
      "source": []
    }
  ],
  "metadata": {
    "kernelspec": {
      "display_name": "Python 3 (ipykernel)",
      "language": "python",
      "name": "python3"
    },
    "language_info": {
      "codemirror_mode": {
        "name": "ipython",
        "version": 3
      },
      "file_extension": ".py",
      "mimetype": "text/x-python",
      "name": "python",
      "nbconvert_exporter": "python",
      "pygments_lexer": "ipython3",
      "version": "3.10.5"
    },
    "colab": {
      "provenance": [],
      "toc_visible": true,
      "include_colab_link": true
    }
  },
  "nbformat": 4,
  "nbformat_minor": 5
}