{
  "cells": [
    {
      "cell_type": "markdown",
      "metadata": {
        "id": "view-in-github",
        "colab_type": "text"
      },
      "source": [
        "<a href=\"https://colab.research.google.com/github/luisosmx/python_exercises/blob/main/Bucles_anidados.ipynb\" target=\"_parent\"><img src=\"https://colab.research.google.com/assets/colab-badge.svg\" alt=\"Open In Colab\"/></a>"
      ]
    },
    {
      "cell_type": "markdown",
      "id": "2abcdfa1",
      "metadata": {
        "id": "2abcdfa1"
      },
      "source": [
        "# Bucles anidados\n",
        "\n",
        "Cuando hablamos de las listas en la unidad de introducción informal vimos que es posible almacenar información en sublistas dentro de listas:"
      ]
    },
    {
      "cell_type": "code",
      "execution_count": 3,
      "id": "97c4f6e8",
      "metadata": {
        "id": "97c4f6e8"
      },
      "outputs": [],
      "source": [
        "lista = [\"Hola\", 10, \"Adiós\", [50, 100, 150]]"
      ]
    },
    {
      "cell_type": "markdown",
      "id": "f64f9df1",
      "metadata": {
        "id": "f64f9df1"
      },
      "source": [
        "Aprendimos que podemos utilizar dobles índices para acceder a los elementos de una sublista en una lista:"
      ]
    },
    {
      "cell_type": "code",
      "execution_count": 5,
      "id": "e2996303",
      "metadata": {
        "colab": {
          "base_uri": "https://localhost:8080/"
        },
        "id": "e2996303",
        "outputId": "ca030f5d-1415-40c4-c172-6aaefe7cc21c"
      },
      "outputs": [
        {
          "output_type": "execute_result",
          "data": {
            "text/plain": [
              "[50, 100, 150]"
            ]
          },
          "metadata": {},
          "execution_count": 5
        }
      ],
      "source": [
        "lista[-1]"
      ]
    },
    {
      "cell_type": "code",
      "execution_count": 6,
      "id": "fd4223f8",
      "metadata": {
        "colab": {
          "base_uri": "https://localhost:8080/"
        },
        "id": "fd4223f8",
        "outputId": "aa89bf65-1cdb-4a10-e357-5e90ca18a594"
      },
      "outputs": [
        {
          "output_type": "execute_result",
          "data": {
            "text/plain": [
              "50"
            ]
          },
          "metadata": {},
          "execution_count": 6
        }
      ],
      "source": [
        "lista[-1][0]"
      ]
    },
    {
      "cell_type": "code",
      "execution_count": null,
      "id": "39260ff1",
      "metadata": {
        "id": "39260ff1",
        "outputId": "d108fa62-2f1d-40b0-b3f3-5900baa17851"
      },
      "outputs": [
        {
          "data": {
            "text/plain": [
              "150"
            ]
          },
          "execution_count": 7,
          "metadata": {},
          "output_type": "execute_result"
        }
      ],
      "source": [
        "lista[-1][-1]"
      ]
    },
    {
      "cell_type": "markdown",
      "id": "109db81b",
      "metadata": {
        "id": "109db81b"
      },
      "source": [
        "Evidentemente podemos utilizar una sentencia `for` para recorrer los elementos de esa sublista dinámicamente:"
      ]
    },
    {
      "cell_type": "code",
      "execution_count": null,
      "id": "0fabbb7f",
      "metadata": {
        "id": "0fabbb7f",
        "outputId": "7d531512-fdf5-401e-89ff-07c8ff7f7ceb"
      },
      "outputs": [
        {
          "name": "stdout",
          "output_type": "stream",
          "text": [
            "50\n",
            "100\n",
            "150\n"
          ]
        }
      ],
      "source": [
        "for numero in lista[-1]:\n",
        "    print(numero)"
      ]
    },
    {
      "cell_type": "markdown",
      "id": "b90348ba",
      "metadata": {
        "id": "b90348ba"
      },
      "source": [
        "## Colecciones iterables\n",
        "\n",
        "La parte interesante es que, cuando una lista contiene únicamente colecciones iterables, ya sean otras listas, tuplas, diccionarios o incluso cadenas, podemos recorrer esos subelementos dinámicamente mediante bucles `for` anidados:"
      ]
    },
    {
      "cell_type": "code",
      "execution_count": null,
      "id": "e43c5c73",
      "metadata": {
        "id": "e43c5c73",
        "outputId": "81f0ae86-d4ef-4d8b-8e16-2ec81a20f0c4"
      },
      "outputs": [
        {
          "name": "stdout",
          "output_type": "stream",
          "text": [
            "Esto es un texto -> E\n",
            "Esto es un texto -> s\n",
            "Esto es un texto -> t\n",
            "Esto es un texto -> o\n",
            "Esto es un texto ->  \n",
            "Esto es un texto -> e\n",
            "Esto es un texto -> s\n",
            "Esto es un texto ->  \n",
            "Esto es un texto -> u\n",
            "Esto es un texto -> n\n",
            "Esto es un texto ->  \n",
            "Esto es un texto -> t\n",
            "Esto es un texto -> e\n",
            "Esto es un texto -> x\n",
            "Esto es un texto -> t\n",
            "Esto es un texto -> o\n",
            "(1, 5, 10, 15, 20, 25) -> 1\n",
            "(1, 5, 10, 15, 20, 25) -> 5\n",
            "(1, 5, 10, 15, 20, 25) -> 10\n",
            "(1, 5, 10, 15, 20, 25) -> 15\n",
            "(1, 5, 10, 15, 20, 25) -> 20\n",
            "(1, 5, 10, 15, 20, 25) -> 25\n",
            "['Azul', 'Verde', 'Amarillo'] -> Azul\n",
            "['Azul', 'Verde', 'Amarillo'] -> Verde\n",
            "['Azul', 'Verde', 'Amarillo'] -> Amarillo\n"
          ]
        }
      ],
      "source": [
        "lista = [\n",
        "    \"Esto es un texto\",             # cadena\n",
        "    (1, 5, 10, 15, 20, 25),         # tupla\n",
        "    [\"Azul\", \"Verde\", \"Amarillo\"]   # lista\n",
        "]\n",
        "\n",
        "for coleccion in lista:\n",
        "    for subelemento in coleccion:\n",
        "        print(coleccion, '->', subelemento)"
      ]
    },
    {
      "cell_type": "markdown",
      "id": "13792351",
      "metadata": {
        "id": "13792351"
      },
      "source": [
        "## Enumeradores anidados\n",
        "\n",
        "De la misma forma podemos aplicar enumeradores anidados para conseguir el índice final de cada subelemento de una lista de colecciones."
      ]
    },
    {
      "cell_type": "code",
      "execution_count": null,
      "id": "f1b2f76f",
      "metadata": {
        "id": "f1b2f76f",
        "outputId": "81d89ef5-bf04-4b75-8ecf-9795248acf3f"
      },
      "outputs": [
        {
          "name": "stdout",
          "output_type": "stream",
          "text": [
            "Esto es un texto -> E\n",
            "Esto es un texto -> s\n",
            "Esto es un texto -> t\n",
            "Esto es un texto -> o\n",
            "Esto es un texto ->  \n",
            "Esto es un texto -> e\n",
            "Esto es un texto -> s\n",
            "Esto es un texto ->  \n",
            "Esto es un texto -> u\n",
            "Esto es un texto -> n\n",
            "Esto es un texto ->  \n",
            "Esto es un texto -> t\n",
            "Esto es un texto -> e\n",
            "Esto es un texto -> x\n",
            "Esto es un texto -> t\n",
            "Esto es un texto -> o\n",
            "(1, 5, 10, 15, 20, 25) -> 1\n",
            "(1, 5, 10, 15, 20, 25) -> 5\n",
            "(1, 5, 10, 15, 20, 25) -> 10\n",
            "(1, 5, 10, 15, 20, 25) -> 15\n",
            "(1, 5, 10, 15, 20, 25) -> 20\n",
            "(1, 5, 10, 15, 20, 25) -> 25\n",
            "['Azul', 'Verde', 'Amarillo'] -> Azul\n",
            "['Azul', 'Verde', 'Amarillo'] -> Verde\n",
            "['Azul', 'Verde', 'Amarillo'] -> Amarillo\n"
          ]
        }
      ],
      "source": [
        "lista = [\n",
        "    \"Esto es un texto\",             # cadena\n",
        "    (1, 5, 10, 15, 20, 25),         # tupla\n",
        "    [\"Azul\", \"Verde\", \"Amarillo\"]   # lista\n",
        "]\n",
        "\n",
        "for indice_coleccion, coleccion in enumerate(lista):\n",
        "    for indice_subelemento, subelemento in enumerate(coleccion):\n",
        "        print(lista[indice_coleccion], '->', lista[indice_coleccion][indice_subelemento])  # Acceso por indice"
      ]
    },
    {
      "cell_type": "markdown",
      "id": "82725881",
      "metadata": {
        "id": "82725881"
      },
      "source": [
        "## El concepto de dimensión"
      ]
    },
    {
      "cell_type": "markdown",
      "id": "fbdae652",
      "metadata": {
        "id": "fbdae652"
      },
      "source": [
        "En la práctica los indices anidados se suelen nombrar como los vectores unitarios (i, j, k...), pues cada uno puede entenderse como una dimensión, siendo `i` el índice de la primera dimensión, `j` el de la segunda, `k` el de la tercera... De manera que concuerdan con el nivel de anidación del bucle:"
      ]
    },
    {
      "cell_type": "code",
      "execution_count": null,
      "id": "7619e2b4",
      "metadata": {
        "id": "7619e2b4",
        "outputId": "8b3878c5-f9ed-493c-e29e-7210a6127f7e"
      },
      "outputs": [
        {
          "name": "stdout",
          "output_type": "stream",
          "text": [
            "Esto es un texto -> E\n",
            "Esto es un texto -> s\n",
            "Esto es un texto -> t\n",
            "Esto es un texto -> o\n",
            "Esto es un texto ->  \n",
            "Esto es un texto -> e\n",
            "Esto es un texto -> s\n",
            "Esto es un texto ->  \n",
            "Esto es un texto -> u\n",
            "Esto es un texto -> n\n",
            "Esto es un texto ->  \n",
            "Esto es un texto -> t\n",
            "Esto es un texto -> e\n",
            "Esto es un texto -> x\n",
            "Esto es un texto -> t\n",
            "Esto es un texto -> o\n",
            "(1, 5, 10, 15, 20, 25) -> 1\n",
            "(1, 5, 10, 15, 20, 25) -> 5\n",
            "(1, 5, 10, 15, 20, 25) -> 10\n",
            "(1, 5, 10, 15, 20, 25) -> 15\n",
            "(1, 5, 10, 15, 20, 25) -> 20\n",
            "(1, 5, 10, 15, 20, 25) -> 25\n",
            "['Azul', 'Verde', 'Amarillo'] -> Azul\n",
            "['Azul', 'Verde', 'Amarillo'] -> Verde\n",
            "['Azul', 'Verde', 'Amarillo'] -> Amarillo\n"
          ]
        }
      ],
      "source": [
        "# For de la primera dimensión\n",
        "for i, coleccion in enumerate(lista):\n",
        "    # For de la segunda dimensión\n",
        "    for j, subelemento in enumerate(coleccion):\n",
        "        print(lista[i], '->', lista[i][j])"
      ]
    },
    {
      "cell_type": "markdown",
      "id": "74322844",
      "metadata": {
        "id": "74322844"
      },
      "source": [
        "## Tablas y cubos\n",
        "\n",
        "Cuando el número de subelementos es constante, tienen el mismo número de subelementos, podemos imaginar las listas de colecciones como tablas y cubos. Por ejemplo una tabla estaría formada por filas, que sería la altura representada por el índice `i` y las columnas o anchura representadas por el índice `j`:\n",
        "\n",
        "![Tabla](./tabla.png)\n",
        "\n",
        "Uniendo ambos índices conseguiríamos la coordenada de cada celda:"
      ]
    },
    {
      "cell_type": "code",
      "execution_count": null,
      "id": "efebe865",
      "metadata": {
        "id": "efebe865",
        "outputId": "0dc90553-34f6-4351-d153-e4b156737c12"
      },
      "outputs": [
        {
          "name": "stdout",
          "output_type": "stream",
          "text": [
            "0 0 0 \n",
            "1 1 1 \n",
            "2 2 2 \n"
          ]
        }
      ],
      "source": [
        "tabla = [\n",
        "    [0,0,0],  # primera fila\n",
        "    [1,1,1],  # segunda fila\n",
        "    [2,2,2]   # tercera fila\n",
        "]\n",
        "\n",
        "for i,fila in enumerate(tabla):\n",
        "    for j,columna in enumerate(fila):\n",
        "        print(tabla[i][j], end=\" \")\n",
        "    print()"
      ]
    },
    {
      "cell_type": "markdown",
      "id": "1e0745b1",
      "metadata": {
        "id": "1e0745b1"
      },
      "source": [
        "Si extendemos las dos dimensiones de una tabla añadiendo distintas tablas unas tras otras podemos suponer un cubo tridimensional, como un cubo de Rubik. Para acceder a una celda de este cubo necesitamos ahora los tres índices `i` (alto), `j` (ancho) y `k` (profundidad):\n",
        "\n",
        "![Cubo2](./cubo2.png)\n",
        "\n",
        "Podemos programar un cubo uniendo varias tablas en una lista:"
      ]
    },
    {
      "cell_type": "code",
      "execution_count": null,
      "id": "9310fd73",
      "metadata": {
        "id": "9310fd73",
        "outputId": "937a1de6-36e6-4997-ee57-36581f5ebb5c"
      },
      "outputs": [
        {
          "name": "stdout",
          "output_type": "stream",
          "text": [
            "0\n",
            "1\n",
            "2\n"
          ]
        }
      ],
      "source": [
        "tabla = [\n",
        "    [0,0,0],  # primera fila\n",
        "    [1,1,1],  # segunda fila\n",
        "    [2,2,2]   # tercera fila\n",
        "]\n",
        "\n",
        "cubo = [tabla, tabla, tabla]\n",
        "\n",
        "print(cubo[0][0][0])\n",
        "print(cubo[1][1][1])\n",
        "print(cubo[2][2][2])"
      ]
    },
    {
      "cell_type": "markdown",
      "id": "a230ba80",
      "metadata": {
        "id": "a230ba80"
      },
      "source": [
        "Ahora utilizando tres bucles for anidados podemos recorrer estas tres dimensiones y ubicar todas las celdas del cubo, teniendo en cuenta que `k` sería el índice de cada tabla en el cubo (profundidad), `i` las filas de las tablas (alto) y `j` las columnas (ancho).\n",
        "\n",
        "![Cubo](./cubo.png)"
      ]
    },
    {
      "cell_type": "markdown",
      "id": "2320dd01",
      "metadata": {
        "id": "2320dd01"
      },
      "source": [
        "De manera que:"
      ]
    },
    {
      "cell_type": "code",
      "execution_count": null,
      "id": "d59d7d82",
      "metadata": {
        "id": "d59d7d82",
        "outputId": "e3a5c8b7-562e-4d33-d446-f13061aca744"
      },
      "outputs": [
        {
          "name": "stdout",
          "output_type": "stream",
          "text": [
            "0 0 0 \n",
            "1 1 1 \n",
            "2 2 2 \n",
            "\n",
            "0 0 0 \n",
            "1 1 1 \n",
            "2 2 2 \n",
            "\n",
            "0 0 0 \n",
            "1 1 1 \n",
            "2 2 2 \n",
            "\n"
          ]
        }
      ],
      "source": [
        "for k,tabla in enumerate(cubo):\n",
        "    for i,fila in enumerate(tabla):\n",
        "        for j,columna in enumerate(fila):\n",
        "            print(cubo[k][i][j], end=\" \")\n",
        "        print()\n",
        "    print()"
      ]
    },
    {
      "cell_type": "markdown",
      "id": "c4ce6ad2",
      "metadata": {
        "id": "c4ce6ad2"
      },
      "source": [
        "Al final los cubos, tablas, filas, columnas... son formas de visualizar los datos para entenderlos mejor, pero nada nos impediría tener estructuras mucho más complejas con 4, 5, 6 o más dimensiones. En la práctica solo deberíamos anidar más bucles para recorrer cada dimensión extra y obtener la información."
      ]
    },
    {
      "cell_type": "code",
      "execution_count": null,
      "id": "e379819c",
      "metadata": {
        "id": "e379819c"
      },
      "outputs": [],
      "source": []
    }
  ],
  "metadata": {
    "kernelspec": {
      "display_name": "Python 3 (ipykernel)",
      "language": "python",
      "name": "python3"
    },
    "language_info": {
      "codemirror_mode": {
        "name": "ipython",
        "version": 3
      },
      "file_extension": ".py",
      "mimetype": "text/x-python",
      "name": "python",
      "nbconvert_exporter": "python",
      "pygments_lexer": "ipython3",
      "version": "3.10.2"
    },
    "colab": {
      "provenance": [],
      "include_colab_link": true
    }
  },
  "nbformat": 4,
  "nbformat_minor": 5
}