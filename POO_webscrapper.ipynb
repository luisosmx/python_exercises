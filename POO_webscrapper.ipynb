{
  "nbformat": 4,
  "nbformat_minor": 0,
  "metadata": {
    "colab": {
      "provenance": [],
      "authorship_tag": "ABX9TyOzAlfYyoOeGStCKQJ1Z94O",
      "include_colab_link": true
    },
    "kernelspec": {
      "name": "python3",
      "display_name": "Python 3"
    },
    "language_info": {
      "name": "python"
    }
  },
  "cells": [
    {
      "cell_type": "markdown",
      "metadata": {
        "id": "view-in-github",
        "colab_type": "text"
      },
      "source": [
        "<a href=\"https://colab.research.google.com/github/luisosmx/python_exercises/blob/main/POO_webscrapper.ipynb\" target=\"_parent\"><img src=\"https://colab.research.google.com/assets/colab-badge.svg\" alt=\"Open In Colab\"/></a>"
      ]
    },
    {
      "cell_type": "code",
      "execution_count": null,
      "metadata": {
        "id": "acOn7de7CN3C"
      },
      "outputs": [],
      "source": [
        "import requests\n",
        "from bs4 import BeautifulSoup"
      ]
    },
    {
      "cell_type": "markdown",
      "source": [
        "El código importa dos librerías: `requests` y `BeautifulSoup`.\n",
        "\n",
        "\n",
        "\n",
        "*   La librería `requests` permite hacer peticiones HTTP.\n",
        "*   La librería `BeautifulSoup` permite parsear (analizar y convertir un programa en un formato interno que un entorno de ejecución pueda realmente ejecutar) el HTML de una página web.\n",
        "\n"
      ],
      "metadata": {
        "id": "nGYDuIYaHDCh"
      }
    },
    {
      "cell_type": "code",
      "source": [
        "#main_link = 'https://porn.jules-aubert.info/humble_bundle/python_by_oreilly/'\n",
        "main_link = 'https://porn.jules-aubert.info/humble_bundle/programming_by_packt/'"
      ],
      "metadata": {
        "id": "kr9DzBi2HsKN"
      },
      "execution_count": null,
      "outputs": []
    },
    {
      "cell_type": "markdown",
      "source": [
        "El código es una variable que contiene una URL. La URL apunta a un sitio web que contiene enlaces a libros electrónicos (ebooks) de programación. El código hace referencia al sitio web donde se encuentran los enlaces a los ebooks.\n",
        "\n",
        "\n",
        "\n",
        "*   `main_link`Es una variable que contiene el enlace de la página web donde se encuentran los libros.\n",
        "\n",
        "\n"
      ],
      "metadata": {
        "id": "Szp1Da5nKUZa"
      }
    },
    {
      "cell_type": "code",
      "source": [
        "# Making a GET request\n",
        "r = requests.get(main_link)"
      ],
      "metadata": {
        "id": "C9wgD9PiL8EZ"
      },
      "execution_count": null,
      "outputs": []
    },
    {
      "cell_type": "markdown",
      "source": [
        "El código hace una petición GET a la URL que se le pasa como parámetro. El resultado de la petición es guardado en una variable llamada` r`.\n",
        "\n",
        "\n",
        "\n",
        "*   La función `request.get()` se usa para realizar una solicitud HTTP GET a una URL específica\n",
        "\n",
        "\n",
        "\n"
      ],
      "metadata": {
        "id": "DFZ28CZrMPnx"
      }
    },
    {
      "cell_type": "code",
      "source": [
        "soup = BeautifulSoup(r.text, 'html.parser')"
      ],
      "metadata": {
        "id": "tqnkCXPBN52y"
      },
      "execution_count": null,
      "outputs": []
    },
    {
      "cell_type": "markdown",
      "source": [
        "El código es una función que recibe dos parámetros: \n",
        "\n",
        "*   `r.text` el primer parámetro es el texto de la respuesta del servidor.\n",
        "*   `html.parser` el segundo parámetro es un parser HTML. La función devuelve un objeto BeautifulSoup que contiene todo el documento HTML parseado.\n"
      ],
      "metadata": {
        "id": "ye94h7_ZQZR6"
      }
    },
    {
      "cell_type": "code",
      "source": [
        "# Find all hyperlinks present on webpage\n",
        "links = soup.find_all('a')"
      ],
      "metadata": {
        "id": "CqxMNwZDQYox"
      },
      "execution_count": null,
      "outputs": []
    },
    {
      "cell_type": "markdown",
      "source": [
        "El código busca todos los elementos con la letra `a` en el documento HTML.\n",
        "\n",
        "*   `soup.fin_all()` El código descarga libros en formato pdf de la página web\n",
        "\n",
        "\n"
      ],
      "metadata": {
        "id": "UUcFaQewRXaM"
      }
    },
    {
      "cell_type": "code",
      "source": [
        "i = 0"
      ],
      "metadata": {
        "id": "1-6AjfxeXRuw"
      },
      "execution_count": null,
      "outputs": []
    },
    {
      "cell_type": "markdown",
      "source": [
        "El código es una variable que se llama `i` y su valor inicial es `0`."
      ],
      "metadata": {
        "id": "tTYm0JENYw3u"
      }
    },
    {
      "cell_type": "code",
      "source": [
        "for link in links:\n",
        "    if ('.pdf' in link.get('href', [])):\n",
        "        i += 1"
      ],
      "metadata": {
        "id": "Oo-Ps-9eZ0-L"
      },
      "execution_count": null,
      "outputs": []
    },
    {
      "cell_type": "markdown",
      "source": [
        "El código es una función que recorre todos los links de la página web y descarga los archivos pdf.\n",
        "\n",
        "\n",
        "\n",
        "*   `links` es una lista de objetos `a` .\n",
        "*   `For` es una palabra clave en Python utilizada para crear un bucle. Se utiliza para iterar sobre los elementos de una secuencia, como una lista o una cadena. El bucle `for` ejecutará el bloque de código para cada elemento de la secuencia.\n",
        "*   `If` es una declaración condicional en Python que evalúa si una determinada condición es verdadera o falsa. Si la condición es verdadera, se ejecutará el bloque de código que sigue a la instrucción `if`. Si la condición es falsa, el bloque de código no se ejecutará. \n",
        "*    `Href` es un atributo HTML que especifica la URL de un enlace. En este fragmento de código, se utiliza para buscar todos los hipervínculos presentes en la página web y buscar enlaces PDF. Si está presente, el archivo se descarga usando el atributo `href`.\n",
        "*  `i += 1` Esta sentencia incrementa el valor de la variable \"i\" en 1. Esto se usa para contar el número de archivos PDF descargados."
      ],
      "metadata": {
        "id": "qj8EAYlZb_LF"
      }
    },
    {
      "cell_type": "code",
      "source": [
        "book_name = link.get('href')\n",
        "full_link = main_link + book_name"
      ],
      "metadata": {
        "id": "pTofiekehOZF"
      },
      "execution_count": null,
      "outputs": []
    },
    {
      "cell_type": "markdown",
      "source": [
        "El código es una función que se encarga de descargar los libros en formato pdf.\n",
        "* El valor de `book_name` es una cadena que contiene el nombre del libro.\n",
        "*`link.get` es un método de la biblioteca BeautifulSoup que se utiliza para obtener el valor del atributo `href` de un enlace HTML. En este caso, está buscando todos los enlaces en la página web y luego verificando si hay alguno con una extensión PDF. Si lo hay, extrae el nombre del archivo y crea una URL completa para descargarlo.\n",
        "*   El valor de `full_link` es la URL del libro en formato pdf.\n",
        "\n"
      ],
      "metadata": {
        "id": "CynEocwCh68l"
      }
    },
    {
      "cell_type": "code",
      "source": [
        "print(f\"Downloading file number {i}: {full_link}\")"
      ],
      "metadata": {
        "id": "iPDmRtYEkGNQ"
      },
      "execution_count": null,
      "outputs": []
    },
    {
      "cell_type": "markdown",
      "source": [
        "El código imprime en la consola el número de archivo que se está descargando y la URL del archivo.\n",
        "\n",
        "\n",
        "*   La función `f` se utiliza para crear cadenas de formato. Esto significa que le permite insertar variables dentro de una cadena sin tener que usar el operador de concatenación (+).\n",
        "\n",
        "\n"
      ],
      "metadata": {
        "id": "8wOqK7HMkZMA"
      }
    },
    {
      "cell_type": "code",
      "source": [
        "# Get response object for link\n",
        "response = requests.get(full_link)"
      ],
      "metadata": {
        "id": "dGfNjMiZkR30"
      },
      "execution_count": null,
      "outputs": []
    },
    {
      "cell_type": "markdown",
      "source": [
        "El código hace una petición GET a la URL `full_link` y guarda el resultado en la variable `response`.\n",
        "\n",
        "\n"
      ],
      "metadata": {
        "id": "FQCbCFjonfu2"
      }
    },
    {
      "cell_type": "code",
      "source": [
        "# Write content in pdf file\n",
        "pdf = open(f\"{book_name}.pdf\", 'wb')\n",
        "pdf.write(response.content)\n",
        "pdf.close()\n",
        "print(f\"File {i}: {book_name} downloaded\")"
      ],
      "metadata": {
        "id": "deeukKtenv44"
      },
      "execution_count": null,
      "outputs": []
    },
    {
      "cell_type": "markdown",
      "source": [
        "\n",
        "El código abre un archivo con el nombre del libro y la extensión pdf, escribe en él el contenido de la respuesta y lo cierra.\n",
        "\n",
        "*   La función `open()` se usa para abrir un archivo en modo de lectura, escritura o actualización. Esta función toma como argumentos el nombre del archivo y el modo en que se abrirá el archivo. En este caso, la función `open` está abriendo un archivo PDF con el nombre especificado y en modo de escritura binaria `('wb')`.\n",
        "*   La función `write` escribe el contenido de la respuesta en un archivo PDF.\n",
        "*   La función `close()` cierra el archivo PDF que se ha abierto para su descarga. Esto asegura que los datos se guarden correctamente en el archivo y no se pierdan.\n",
        "\n",
        "\n"
      ],
      "metadata": {
        "id": "eP7AH_y-xQUH"
      }
    },
    {
      "cell_type": "markdown",
      "source": [
        "# Finalmente el codigo queda estructurado de la siguiente manera:"
      ],
      "metadata": {
        "id": "C76VpkfxznI-"
      }
    },
    {
      "cell_type": "code",
      "source": [
        "import requests\n",
        "from bs4 import BeautifulSoup\n",
        "\n",
        "#main_link = 'https://porn.jules-aubert.info/humble_bundle/python_by_oreilly/'\n",
        "main_link = 'https://porn.jules-aubert.info/humble_bundle/programming_by_packt/'\n",
        "\n",
        "# Making a GET request\n",
        "r = requests.get(main_link)\n",
        "\n",
        "soup = BeautifulSoup(r.text, 'html.parser')\n",
        "\n",
        "# Find all hyperlinks present on webpage\n",
        "links = soup.find_all('a')\n",
        "\n",
        "i = 0\n",
        "  \n",
        "# From all links check for pdf link and\n",
        "# if present download file\n",
        "for link in links:\n",
        "    if ('.pdf' in link.get('href', [])):\n",
        "        i += 1\n",
        "  \n",
        "        book_name = link.get('href')\n",
        "        full_link = main_link + book_name\n",
        "        \n",
        "        print(f\"Downloading file number {i}: {full_link}\")\n",
        "        \n",
        "        # Get response object for link\n",
        "        response = requests.get(full_link)\n",
        "  \n",
        "        # Write content in pdf file\n",
        "        pdf = open(f\"{book_name}.pdf\", 'wb')\n",
        "        pdf.write(response.content)\n",
        "        pdf.close()\n",
        "        print(f\"File {i}: {book_name} downloaded\")"
      ],
      "metadata": {
        "id": "LEaYXhXnzvyC"
      },
      "execution_count": null,
      "outputs": []
    },
    {
      "cell_type": "markdown",
      "source": [
        "Y queda listo para ejecutarlo."
      ],
      "metadata": {
        "id": "ZNxTUJEMz3tO"
      }
    },
    {
      "cell_type": "markdown",
      "source": [
        "Para la descarga de archivos .zip se estructura un codigo de la siguiente manera:\n",
        "\n",
        "+ Para empezar se agrega una libreria con el nombre de `shutil`"
      ],
      "metadata": {
        "id": "uQWm8gtGIFhb"
      }
    },
    {
      "cell_type": "code",
      "source": [
        "import shutil"
      ],
      "metadata": {
        "id": "MtbhLiM8JNpj"
      },
      "execution_count": null,
      "outputs": []
    },
    {
      "cell_type": "markdown",
      "source": [
        "* Posteriormente este código es una estructura de control que permite iterar sobre un objeto iterable. En este caso, el objeto es `links` y se trata de una lista con todos los links encontrados en la página web. \n",
        "\n",
        "* `break `Este código es un script de Python que descarga y descomprime archivos de un sitio web determinado. La palabra clave `break` se usa para finalizar el ciclo después de que se haya procesado una cierta cantidad de archivos."
      ],
      "metadata": {
        "id": "bIcTd7X8JPx7"
      }
    },
    {
      "cell_type": "code",
      "source": [
        "for link in links:\n",
        "    # Uncomment the following line to process \n",
        "    # an specific number of files\n",
        "    if i == 3:\n",
        "        break"
      ],
      "metadata": {
        "id": "uNxLav0_JZjk"
      },
      "execution_count": null,
      "outputs": []
    },
    {
      "cell_type": "markdown",
      "source": [
        "* El código es una función que descarga archivos zip de un sitio web. La función `get()` obtiene el valor de una clave en un diccionario.\n",
        "* Este código usa el atributo `href` de la biblioteca `BeautifulSoup`. El atributo `href` se utiliza para especificar el destino de un enlace."
      ],
      "metadata": {
        "id": "TAFAXhhELCWn"
      }
    },
    {
      "cell_type": "code",
      "source": [
        " if ('.zip' in link.get('href', [])):\n",
        "        \n",
        "        book_name = link.get('href')\n",
        "        full_link = main_link + book_name\n",
        "        \n",
        "        print(f\"Downloading file number {i+1}: {full_link}\")\n",
        "        \n",
        "        # Get response object for link\n",
        "        response = requests.get(full_link)\n"
      ],
      "metadata": {
        "id": "c61njNQdLACV"
      },
      "execution_count": null,
      "outputs": []
    },
    {
      "cell_type": "markdown",
      "source": [
        "* El código es una función que descarga archivos `.zip` de una página web y los descomprime. Utiliza la biblioteca `BeautifulSoup` para encontrar todos los hipervinculos presentes en al pagina web, luego recorre cada enlace y verifica si tiene una extension de archivo `.zip`. Si lo hace, descarga el archivo, escribe su contenido en un archivo pdf y luego lo descomprime."
      ],
      "metadata": {
        "id": "sH7f-I6yNYRq"
      }
    },
    {
      "cell_type": "code",
      "source": [
        "# Write content in pdf file\n",
        "        with open(f\"{book_name}\", 'wb') as pdf:\n",
        "            pdf.write(response.content)\n",
        "\n",
        "        print(f\"File {i+1}: {book_name} downloaded\")\n",
        "        \n",
        "        # Unzip the file\n",
        "        shutil.unpack_archive(book_name, \"./\")\n",
        "        print(f\"File {i+1}: {book_name} unzipped.\")\n",
        "        i += 1"
      ],
      "metadata": {
        "id": "Wm9x31Q6NY_b"
      },
      "execution_count": null,
      "outputs": []
    }
  ]
}