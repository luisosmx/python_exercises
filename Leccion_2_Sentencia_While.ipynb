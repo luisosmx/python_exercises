{
  "cells": [
    {
      "cell_type": "markdown",
      "metadata": {
        "id": "view-in-github",
        "colab_type": "text"
      },
      "source": [
        "<a href=\"https://colab.research.google.com/github/luisosmx/python_exercises/blob/main/Leccion_2_Sentencia_While.ipynb\" target=\"_parent\"><img src=\"https://colab.research.google.com/assets/colab-badge.svg\" alt=\"Open In Colab\"/></a>"
      ]
    },
    {
      "cell_type": "code",
      "execution_count": 2,
      "metadata": {
        "collapsed": true,
        "colab": {
          "base_uri": "https://localhost:8080/"
        },
        "id": "cCAnUMAm0_jL",
        "outputId": "db3b532e-88b3-4485-ace6-aa6b475f42f3"
      },
      "outputs": [
        {
          "output_type": "stream",
          "name": "stdout",
          "text": [
            "c vale 1\n",
            "c vale 2\n",
            "c vale 3\n",
            "c vale 4\n",
            "c vale 5\n",
            "c vale 6\n"
          ]
        }
      ],
      "source": [
        "c = 0\n",
        "while c <= 5:\n",
        "  c += 1\n",
        "  print(\"c vale\", c)"
      ]
    },
    {
      "cell_type": "code",
      "source": [
        "c = 0\n",
        "while c <= 5:\n",
        "  c += 1\n",
        "  print(\"c vale\", c)\n",
        "else:\n",
        "  print(\"Se ha completado toda la iteracion y c vale\", c)"
      ],
      "metadata": {
        "colab": {
          "base_uri": "https://localhost:8080/"
        },
        "id": "EvU4y_If1cbK",
        "outputId": "541dd802-09f2-44f8-dcb6-eda60561a629"
      },
      "execution_count": 3,
      "outputs": [
        {
          "output_type": "stream",
          "name": "stdout",
          "text": [
            "c vale 1\n",
            "c vale 2\n",
            "c vale 3\n",
            "c vale 4\n",
            "c vale 5\n",
            "c vale 6\n",
            "Se ha completado toda la iteracion y c vale 6\n"
          ]
        }
      ]
    },
    {
      "cell_type": "code",
      "source": [
        "c = 0\n",
        "while c <= 5:\n",
        "  c += 1\n",
        "  if (c == 2):\n",
        "    print(\"rompemos el bucle cuando c vale\", c)\n",
        "    break\n",
        "  print(\"c vale\", c)\n",
        "else:\n",
        "  print(\"Se ha completado toda la iteracion y c vale\", c)"
      ],
      "metadata": {
        "colab": {
          "base_uri": "https://localhost:8080/"
        },
        "id": "11ySKztj2GKE",
        "outputId": "7715d243-7a37-40de-86d0-4f0f79e8ad1d"
      },
      "execution_count": 4,
      "outputs": [
        {
          "output_type": "stream",
          "name": "stdout",
          "text": [
            "c vale 1\n",
            "rompemos el bucle cuando c vale 2\n"
          ]
        }
      ]
    },
    {
      "cell_type": "code",
      "source": [
        "c = 0\n",
        "while c <= 5:\n",
        "  c += 1\n",
        "  if (c == 2):\n",
        "    print(\"continuamos con la siguiente iteracion\", c)\n",
        "    continue\n",
        "  print(\"c vale\", c)\n",
        "else:\n",
        "  print(\"Se ha completado toda la iteracion y c vale\", c)"
      ],
      "metadata": {
        "colab": {
          "base_uri": "https://localhost:8080/"
        },
        "id": "OEdWB9jH22I-",
        "outputId": "36e81645-6976-48a2-ce7f-91038c738e52"
      },
      "execution_count": 5,
      "outputs": [
        {
          "output_type": "stream",
          "name": "stdout",
          "text": [
            "c vale 1\n",
            "continuamos con la siguiente iteracion 2\n",
            "c vale 3\n",
            "c vale 4\n",
            "c vale 5\n",
            "c vale 6\n",
            "Se ha completado toda la iteracion y c vale 6\n"
          ]
        }
      ]
    },
    {
      "cell_type": "code",
      "source": [
        "print(\"Bienvenido al menu interativo\")\n",
        "while (True):\n",
        "  print(\"\"\"¿que quieres hacer? Escribe una opcion\n",
        "  1) saludar\n",
        "  2) sumar dos numeros\n",
        "  3) salir\"\"\")\n",
        "  opcion = input()\n",
        "  if opcion == '1':\n",
        "    print(\"Hola espero que te lo estes pasando bien\")\n",
        "  elif opcion == '2':\n",
        "    n1 = float(input(\"introduce el primer numero: \"))\n",
        "    n2 = float(input(\"introduce el segundo numero: \"))\n",
        "    print(\"el resultado de la suma es: \",n1 + n2)\n",
        "  elif opcion == '3':\n",
        "    print(\"Hasta luego! Ha sido un placer ayudarte\")\n",
        "    break\n",
        "  else:\n",
        "    print(\"Comando desconocido, vuelve a intentarlo\")"
      ],
      "metadata": {
        "colab": {
          "base_uri": "https://localhost:8080/"
        },
        "id": "PE7uIbzg3b3K",
        "outputId": "8284f5c1-b6a4-41ed-c34e-528144403027"
      },
      "execution_count": 7,
      "outputs": [
        {
          "output_type": "stream",
          "name": "stdout",
          "text": [
            "Bienvenido al menu interativo\n",
            "¿que quieres hacer? Escribe una opcion\n",
            "  1) saludar\n",
            "  2) sumar dos numeros\n",
            "  3) salir\n",
            "1\n",
            "Hola espero que te lo estes pasando bien\n",
            "¿que quieres hacer? Escribe una opcion\n",
            "  1) saludar\n",
            "  2) sumar dos numeros\n",
            "  3) salir\n",
            "2\n",
            "introduce el primer numero: 20\n",
            "introduce el segundo numero: 70\n",
            "el resultado de la suma es:  90.0\n",
            "¿que quieres hacer? Escribe una opcion\n",
            "  1) saludar\n",
            "  2) sumar dos numeros\n",
            "  3) salir\n",
            "jkfhsdjlghsdil\n",
            "Comando desconocido, vuelve a intentarlo\n",
            "¿que quieres hacer? Escribe una opcion\n",
            "  1) saludar\n",
            "  2) sumar dos numeros\n",
            "  3) salir\n",
            "3\n",
            "Hasta luego! Ha sido un placer ayudarte\n"
          ]
        }
      ]
    },
    {
      "cell_type": "code",
      "source": [],
      "metadata": {
        "id": "eQDMPxlG82BX"
      },
      "execution_count": null,
      "outputs": []
    }
  ],
  "metadata": {
    "kernelspec": {
      "display_name": "Python 3",
      "language": "python",
      "name": "python3"
    },
    "language_info": {
      "codemirror_mode": {
        "name": "ipython",
        "version": 3
      },
      "file_extension": ".py",
      "mimetype": "text/x-python",
      "name": "python",
      "nbconvert_exporter": "python",
      "pygments_lexer": "ipython3",
      "version": "3.5.1"
    },
    "colab": {
      "provenance": [],
      "include_colab_link": true
    }
  },
  "nbformat": 4,
  "nbformat_minor": 0
}