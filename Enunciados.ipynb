{
  "cells": [
    {
      "cell_type": "markdown",
      "metadata": {
        "id": "view-in-github",
        "colab_type": "text"
      },
      "source": [
        "<a href=\"https://colab.research.google.com/github/luisosmx/python_exercises/blob/main/Enunciados.ipynb\" target=\"_parent\"><img src=\"https://colab.research.google.com/assets/colab-badge.svg\" alt=\"Open In Colab\"/></a>"
      ]
    },
    {
      "cell_type": "markdown",
      "metadata": {
        "id": "WEF-8QSvXSoe"
      },
      "source": [
        "# Tema 02: Operadores y expresiones (Enunciados)\n",
        "*Nota: Estos ejercicios son optativos para hacer al final de la unidad y están pensados para apoyar tu aprendizaje*."
      ]
    },
    {
      "cell_type": "markdown",
      "metadata": {
        "id": "fT8bXEO6XSok"
      },
      "source": [
        "**1) Realiza un programa que lea 2 números por teclado y determine los siguientes aspectos (es suficiene con mostrar True o False):**\n",
        "* Si los dos números son iguales\n",
        "* Si los dos números son diferentes\n",
        "* Si el primero es mayor que el segundo\n",
        "* Si el segundo es mayor o igual que el primero"
      ]
    },
    {
      "cell_type": "code",
      "execution_count": 3,
      "metadata": {
        "colab": {
          "base_uri": "https://localhost:8080/"
        },
        "id": "GvEPQf8oXSol",
        "outputId": "b1b68882-6ce2-4819-8404-d486abf250ff"
      },
      "outputs": [
        {
          "output_type": "stream",
          "name": "stdout",
          "text": [
            "Introduce el primer numero: 8\n",
            "Introduce el segundo numero: 8\n",
            "¿Son iguales? True\n",
            "¿Son diferentes? False\n",
            "¿El primer numero es mayor que el segundo? False\n",
            "¿El segundo es mayor o igual que el primero? True\n"
          ]
        }
      ],
      "source": [
        "# Completa el ejercicio aquí\n",
        "n1 = float(input(\"Introduce el primer numero: \"))\n",
        "n2 = float(input(\"Introduce el segundo numero: \"))\n",
        "\n",
        "print(\"¿Son iguales?\", n1 == n2)\n",
        "print(\"¿Son diferentes?\", n1 != n2)\n",
        "print(\"¿El primer numero es mayor que el segundo?\", n1 > n2)\n",
        "print(\"¿El segundo es mayor o igual que el primero?\", n2 >= n1)"
      ]
    },
    {
      "cell_type": "markdown",
      "metadata": {
        "id": "d7jg71ScXSon"
      },
      "source": [
        "**2) Utilizando operadores lógicos, determina si una cadena de texto introducida por el usuario tiene una longitud mayor o igual que 3 y a su vez es menor que 10 (es suficiene con mostrar True o False):**"
      ]
    },
    {
      "cell_type": "code",
      "execution_count": null,
      "metadata": {
        "id": "x_yvQ8OTXSon"
      },
      "outputs": [],
      "source": [
        "# Completa el ejercicio aquí\n"
      ]
    },
    {
      "cell_type": "markdown",
      "metadata": {
        "id": "RT_wNVtBXSoo"
      },
      "source": [
        "**3) Realiza un programa que cumpla el siguiente algoritmo utilizando siempre que sea posible operadores en asignación:**\n",
        "* Guarda en una variable numero_magico el valor 12345679 (sin el 8)\n",
        "* Lee por pantalla otro numero_usuario, especifica que sea entre 1 y 9 (asegúrate que es un número)\n",
        "* Multiplica el numero_usuario por 9 en sí mismo\n",
        "* Multiplica el numero_magico por el numero_usuario en sí mismo\n",
        "* Finalmente muestra el valor final del numero_magico por pantalla\n"
      ]
    },
    {
      "cell_type": "code",
      "execution_count": null,
      "metadata": {
        "id": "SbSMSzfpXSoo"
      },
      "outputs": [],
      "source": [
        "# Completa el ejercicio aquí\n"
      ]
    }
  ],
  "metadata": {
    "anaconda-cloud": {},
    "kernelspec": {
      "display_name": "Python [default]",
      "language": "python",
      "name": "python3"
    },
    "language_info": {
      "codemirror_mode": {
        "name": "ipython",
        "version": 3
      },
      "file_extension": ".py",
      "mimetype": "text/x-python",
      "name": "python",
      "nbconvert_exporter": "python",
      "pygments_lexer": "ipython3",
      "version": "3.5.2"
    },
    "colab": {
      "provenance": [],
      "include_colab_link": true
    }
  },
  "nbformat": 4,
  "nbformat_minor": 0
}