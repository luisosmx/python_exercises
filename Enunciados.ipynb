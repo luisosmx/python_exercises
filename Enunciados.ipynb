{
  "cells": [
    {
      "cell_type": "markdown",
      "metadata": {
        "id": "view-in-github",
        "colab_type": "text"
      },
      "source": [
        "<a href=\"https://colab.research.google.com/github/luisosmx/python_exercises/blob/main/Enunciados.ipynb\" target=\"_parent\"><img src=\"https://colab.research.google.com/assets/colab-badge.svg\" alt=\"Open In Colab\"/></a>"
      ]
    },
    {
      "cell_type": "markdown",
      "metadata": {
        "id": "3FrEHhhErlt6"
      },
      "source": [
        "# Tema 01: Introducción informal (Enunciados)\n",
        "*Nota: Estos ejercicios son optativos para hacer al final de la unidad y están pensados para apoyar tu aprendizaje*."
      ]
    },
    {
      "cell_type": "markdown",
      "metadata": {
        "id": "pO6FbW_rrluA"
      },
      "source": [
        "**1) Identifica el tipo de dato (int, float, string o list) de los siguientes valores literales**\n",
        "```python\n",
        "\"Hola Mundo\" #string\n",
        "[1, 10, 100] #lista\n",
        "-25          #int\n",
        "1.167        #float\n",
        "[\"Hola\", \"Mundo\"]  #lista con 2 string\n",
        "' '        #caratcter vacio delimitado por dos comillas\n",
        "```"
      ]
    },
    {
      "cell_type": "markdown",
      "metadata": {
        "id": "mj80HJCwrluB"
      },
      "source": [
        "**2) Determina mentalmente (sin programar) el resultado que aparecerá por pantalla a partir de las siguientes variables:**\n",
        "```python\n",
        "a = 10\n",
        "b = -5\n",
        "c = \"Hola \"\n",
        "d = [1, 2, 3]\n",
        "```\n",
        "```python\n",
        "print(a * 5)  \n",
        "print(a - b)    \n",
        "print(c + \"Mundo\")   \n",
        "print(c * 2)        \n",
        "print(c[-1])        \n",
        "print(c[1:])    \n",
        "print(d + d)       \n",
        "```"
      ]
    },
    {
      "cell_type": "markdown",
      "metadata": {
        "id": "LLjy2vq-rluC"
      },
      "source": [
        "**3) El siguiente código pretende realizar una media entre 3 números, pero no funciona correctamente. ¿Eres capaz de identificar el problema y solucionarlo?**"
      ]
    },
    {
      "cell_type": "code",
      "execution_count": null,
      "metadata": {
        "id": "87XnizBXrluD",
        "outputId": "cc069f97-e534-4b47-852f-5a1b9283a016"
      },
      "outputs": [
        {
          "name": "stdout",
          "output_type": "stream",
          "text": [
            "La nota media es 14.0\n"
          ]
        }
      ],
      "source": [
        "numero_1 = 9\n",
        "numero_2 = 3\n",
        "numero_3 = 6\n",
        "\n",
        "media = numero_1 + numero_2 + numero_3 / 3\n",
        "print(\"La nota media es\", media)"
      ]
    },
    {
      "cell_type": "markdown",
      "source": [
        "#Respuesta:"
      ],
      "metadata": {
        "id": "9Lan2emOtZJI"
      }
    },
    {
      "cell_type": "code",
      "source": [
        "numero_1 = 9\n",
        "numero_2 = 3\n",
        "numero_3 = 6\n",
        "\n",
        "media = (numero_1 + numero_2 + numero_3) / 3\n",
        "print(\"La nota media es\", media)"
      ],
      "metadata": {
        "colab": {
          "base_uri": "https://localhost:8080/"
        },
        "id": "57zWokq5tQu2",
        "outputId": "a4b1be74-13c2-47d6-e935-950f7db830ea"
      },
      "execution_count": 1,
      "outputs": [
        {
          "output_type": "stream",
          "name": "stdout",
          "text": [
            "La nota media es 6.0\n"
          ]
        }
      ]
    },
    {
      "cell_type": "markdown",
      "metadata": {
        "id": "LPsYWtb9rluF"
      },
      "source": [
        "**4) A partir del ejercicio anterior, vamos a suponer que cada número es una nota, y lo que queremos es obtener la nota media. El problema es que cada nota tiene un valor porcentual: **\n",
        "\n",
        "* La primera nota vale un 15% del total\n",
        "* La segunda nota vale un 35% del total\n",
        "* La tercera nota vale un 50% del total\n",
        "\n",
        "**Desarrolla un programa para calcular perfectamente la nota final.**"
      ]
    },
    {
      "cell_type": "code",
      "execution_count": 5,
      "metadata": {
        "colab": {
          "base_uri": "https://localhost:8080/"
        },
        "id": "f5ZeBEcXrluF",
        "outputId": "ea696700-220a-4ee5-f251-47d9cf43ed62"
      },
      "outputs": [
        {
          "output_type": "execute_result",
          "data": {
            "text/plain": [
              "5.949999999999999"
            ]
          },
          "metadata": {},
          "execution_count": 5
        }
      ],
      "source": [
        "nota_1 = 10\n",
        "nota_2 = 7\n",
        "nota_3 = 4\n",
        "\n",
        "# Completa el ejercicio aquí\n",
        "media = nota_1 * 0.15 + nota_2 * 0.35 + nota_3 * 0.50 \n",
        "media"
      ]
    },
    {
      "cell_type": "markdown",
      "metadata": {
        "id": "fUciiE8jrluG"
      },
      "source": [
        "**5) La siguiente matriz (o lista con listas anidadas) debe cumplir una condición, y es que en cada fila, el cuarto elemento siempre debe ser el resultado de sumar los tres primeros. ¿Eres capaz de modificar las sumas incorrectas utilizando la técnica del slicing?**\n",
        "\n",
        "*Ayuda: La función llamada sum(lista) devuelve una suma de todos los elementos de la lista ¡Pruébalo!*"
      ]
    },
    {
      "cell_type": "code",
      "execution_count": 8,
      "metadata": {
        "colab": {
          "base_uri": "https://localhost:8080/"
        },
        "id": "ajSKNIRxrluH",
        "outputId": "e1793757-5cc8-464a-b6dc-b62547a25482"
      },
      "outputs": [
        {
          "output_type": "execute_result",
          "data": {
            "text/plain": [
              "[[1, 1, 1, 3], [2, 2, 2, 6], [3, 3, 3, 9], [4, 4, 4, 12]]"
            ]
          },
          "metadata": {},
          "execution_count": 8
        }
      ],
      "source": [
        "matriz = [ \n",
        "    [1, 1, 1, 3],\n",
        "    [2, 2, 2, 7],\n",
        "    [3, 3, 3, 9],\n",
        "    [4, 4, 4, 13]\n",
        "]\n",
        "\n",
        "# Completa el ejercicio aquí\n",
        "\n",
        "matriz[1][-1] = sum(matriz[1][:-1])\n",
        "matriz[-1][-1] = sum(matriz[-1][:-1])\n",
        "matriz"
      ]
    },
    {
      "cell_type": "markdown",
      "metadata": {
        "id": "OipufgS-rluH"
      },
      "source": [
        "**6) Al realizar una consulta en un registro hemos obtenido una cadena de texto corrupta al revés. Al parecer contiene el nombre de un alumno y la nota de un exámen. ¿Cómo podríamos formatear la cadena y conseguir una estructura como la siguiente?:**\n",
        "\n",
        "* ***Nombre*** ***Apellido*** ha sacado un ***Nota*** de nota.\n",
        "\n",
        "*Ayuda: Para voltear una cadena rápidamente utilizando slicing podemos utilizar un tercer índice -1: **cadena[::-1]** *"
      ]
    },
    {
      "cell_type": "code",
      "execution_count": 11,
      "metadata": {
        "colab": {
          "base_uri": "https://localhost:8080/",
          "height": 35
        },
        "id": "dtKzRog4rluI",
        "outputId": "57581d60-fa5d-4b70-8083-e707838b2e1c"
      },
      "outputs": [
        {
          "output_type": "execute_result",
          "data": {
            "text/plain": [
              "'10,Juan Pérez'"
            ],
            "application/vnd.google.colaboratory.intrinsic+json": {
              "type": "string"
            }
          },
          "metadata": {},
          "execution_count": 11
        }
      ],
      "source": [
        "cadena = \"zeréP nauJ,01\"\n",
        "\n",
        "# Completa el ejercicio aquí\n",
        "cadena_volteada =cadena[::-1]\n",
        "cadena_volteada"
      ]
    },
    {
      "cell_type": "code",
      "source": [
        "print(cadena_volteada[3:] + \" ha sacado un \" + cadena_volteada[:2] + \" de nota.\")"
      ],
      "metadata": {
        "colab": {
          "base_uri": "https://localhost:8080/"
        },
        "id": "zXJ711pixtE_",
        "outputId": "47c25923-45f2-4dd8-c866-468d74758110"
      },
      "execution_count": 14,
      "outputs": [
        {
          "output_type": "stream",
          "name": "stdout",
          "text": [
            "Juan Pérez ha sacado un 10 de nota.\n"
          ]
        }
      ]
    },
    {
      "cell_type": "code",
      "source": [],
      "metadata": {
        "id": "5f5oNqSVyIUi"
      },
      "execution_count": null,
      "outputs": []
    }
  ],
  "metadata": {
    "anaconda-cloud": {},
    "kernelspec": {
      "display_name": "Python [default]",
      "language": "python",
      "name": "python3"
    },
    "language_info": {
      "codemirror_mode": {
        "name": "ipython",
        "version": 3
      },
      "file_extension": ".py",
      "mimetype": "text/x-python",
      "name": "python",
      "nbconvert_exporter": "python",
      "pygments_lexer": "ipython3",
      "version": "3.5.2"
    },
    "colab": {
      "provenance": [],
      "include_colab_link": true
    }
  },
  "nbformat": 4,
  "nbformat_minor": 0
}