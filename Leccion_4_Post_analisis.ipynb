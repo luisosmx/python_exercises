{
  "cells": [
    {
      "cell_type": "markdown",
      "metadata": {
        "id": "view-in-github",
        "colab_type": "text"
      },
      "source": [
        "<a href=\"https://colab.research.google.com/github/luisosmx/python_exercises/blob/main/Leccion_4_Post_analisis.ipynb\" target=\"_parent\"><img src=\"https://colab.research.google.com/assets/colab-badge.svg\" alt=\"Open In Colab\"/></a>"
      ]
    },
    {
      "cell_type": "code",
      "execution_count": 1,
      "metadata": {
        "collapsed": true,
        "colab": {
          "base_uri": "https://localhost:8080/"
        },
        "id": "WbqM5hc6lIsk",
        "outputId": "ac4beb93-421d-4695-a3c1-e94d2a4f1ae1"
      },
      "outputs": [
        {
          "output_type": "stream",
          "name": "stdout",
          "text": [
            "0 es un número par\n",
            "1 es un número impar\n",
            "2 es un número par\n",
            "3 es un número impar\n",
            "4 es un número par\n",
            "5 es un número impar\n",
            "6 es un número par\n",
            "7 es un número impar\n",
            "8 es un número par\n",
            "9 es un número impar\n"
          ]
        }
      ],
      "source": [
        "n = 0\n",
        "while n < 10:\n",
        "    if (n % 2) == 0:\n",
        "        print(n,'es un número par')\n",
        "    else:\n",
        "        print(n,'es un número impar') \n",
        "    n = n + 1"
      ]
    },
    {
      "cell_type": "code",
      "source": [
        "from evaluate import iniciales\n",
        " \n",
        "# Recorremos mediante un enumerador cada cadena en la lista\n",
        "for i,cadena in enumerate(iniciales):\n",
        "    # Modificamos cada cadena por su letra inicial\n",
        "    iniciales[i] = iniciales[i][0]"
      ],
      "metadata": {
        "id": "75LQi1PKmea6"
      },
      "execution_count": null,
      "outputs": []
    },
    {
      "cell_type": "markdown",
      "source": [
        "#Iteraciones y conversiones\n",
        "Pide al usuario que introduzca un número entero por teclado entre 1 y 9 (ambos incluidos) y guárdalo en la variable `numero`. Debes asegurarte de que esa variable `numero` contiene un `numero` entero del 1 al 9, utiliza un bucle para repetir la lectura hasta que se cumpla esa condición.\n",
        "\n",
        "Genera una lista llamada multiplos que contenga los múltiplos de `numero` en el rango de 1 a 100 (ambos incluidos) utilizando la conversión de un `range` a list con un paso: `list`(`range`(Min,Max,Paso)).\n",
        "\n",
        "IMPORTANTE:\n",
        "\n",
        "La función `range` permite especificar un paso/salto en un tercer argumento, es decir, cada cuantos números se genera uno en el rango. Prueba este ejemplo y saca tus conclusiones, te servirá para solucionar el ejercicio:\n",
        "\n",
        "list(`range`(0, 30, 5))  # `range` con salto de 5\n",
        "No olvides que la función `range` incluye el mínimo pero excluye el máximo.\n"
      ],
      "metadata": {
        "id": "m724Fk89wyVt"
      }
    },
    {
      "cell_type": "code",
      "source": [
        "multiplos = []\n",
        " \n",
        "# Empezamos leyendo un número entero por teclado\n",
        "numero = int(input())\n",
        " \n",
        "# Volveremos a leerlo mientras el número no se encuentre entre 1 y 9 (ambos incluidos)\n",
        "while numero < 1 or numero > 9:\n",
        "    numero = int(input())\n",
        " \n",
        "# Generamos con range toda la lista de múltiplos entre el numero y 100\n",
        "multiplos = list(range(numero, 101, numero))"
      ],
      "metadata": {
        "colab": {
          "base_uri": "https://localhost:8080/"
        },
        "id": "SSvaDffAr1PR",
        "outputId": "ccb15ab1-2f58-44cd-d720-cbc5bac39d18"
      },
      "execution_count": 4,
      "outputs": [
        {
          "name": "stdout",
          "output_type": "stream",
          "text": [
            "7\n"
          ]
        }
      ]
    },
    {
      "cell_type": "code",
      "source": [],
      "metadata": {
        "id": "oOaqMfTCxPKH"
      },
      "execution_count": null,
      "outputs": []
    }
  ],
  "metadata": {
    "kernelspec": {
      "display_name": "Python 3",
      "language": "python",
      "name": "python3"
    },
    "language_info": {
      "codemirror_mode": {
        "name": "ipython",
        "version": 3
      },
      "file_extension": ".py",
      "mimetype": "text/x-python",
      "name": "python",
      "nbconvert_exporter": "python",
      "pygments_lexer": "ipython3",
      "version": "3.5.1"
    },
    "colab": {
      "provenance": [],
      "include_colab_link": true
    }
  },
  "nbformat": 4,
  "nbformat_minor": 0
}