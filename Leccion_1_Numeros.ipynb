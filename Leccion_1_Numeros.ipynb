{
  "cells": [
    {
      "cell_type": "markdown",
      "metadata": {
        "id": "view-in-github",
        "colab_type": "text"
      },
      "source": [
        "<a href=\"https://colab.research.google.com/github/luisosmx/python_exercises/blob/main/Leccion_1_Numeros.ipynb\" target=\"_parent\"><img src=\"https://colab.research.google.com/assets/colab-badge.svg\" alt=\"Open In Colab\"/></a>"
      ]
    },
    {
      "cell_type": "markdown",
      "source": [
        "#Print\n",
        "Una funcionalidad que encontramos en todos los lenguajes es la de imprimir un valor por pantalla. En Python esa función se llama print() y debemos pasar el valor o literal entre los paréntesis. Modifica el código del ejercicio para que el resultado mostrado sea el siguiente:"
      ],
      "metadata": {
        "id": "7NPjwBGMdyd7"
      }
    },
    {
      "cell_type": "code",
      "source": [
        "123\n",
        "-21\n",
        "3.14\n",
        "999.999\n",
        "100\n",
        "777\n",
        "Nota: Quizá tengas que utilizar print()  varias veces!"
      ],
      "metadata": {
        "id": "zkopz0yUd5Op"
      },
      "execution_count": null,
      "outputs": []
    },
    {
      "cell_type": "markdown",
      "source": [
        "#Solucion:"
      ],
      "metadata": {
        "id": "2PRrFlr1er8Q"
      }
    },
    {
      "cell_type": "code",
      "source": [
        "print(123)\n",
        "print(-21)\n",
        "print(3.14)\n",
        "print(999.999)\n",
        "print(100)\n",
        "print(777)"
      ],
      "metadata": {
        "colab": {
          "base_uri": "https://localhost:8080/"
        },
        "id": "JQnvzWCDeCc5",
        "outputId": "bc1dbf47-83ef-4acd-e824-9c923d4bd4ab"
      },
      "execution_count": 1,
      "outputs": [
        {
          "output_type": "stream",
          "name": "stdout",
          "text": [
            "123\n",
            "-21\n",
            "3.14\n",
            "999.999\n",
            "100\n",
            "777\n"
          ]
        }
      ]
    },
    {
      "cell_type": "markdown",
      "source": [
        "#Variables\n",
        "Un profesor quiere calcular la nota final de sus alumnos en base a dos exámenes y está desarrollando un algoritmo, el problema es que los exámenes cuentan diferente y no sabe cómo acabar el programa:\n",
        "\n",
        "El primer examen nota_1 cuenta un 40% de la nota final.\n",
        "\n",
        "El segundo examen nota_2 cuenta un 60% de la nota final.\n",
        "\n",
        "Modifica las instrucciones donde creas oportuno para ayudar al profesor a conseguir correctamente la nota_final (no cambies el nombre de esta variable)."
      ],
      "metadata": {
        "id": "xd4h2KhMhpRC"
      }
    },
    {
      "cell_type": "code",
      "source": [
        "# Variables del ejercicio (no las modifiques)\n",
        "nota_1 = 10\n",
        "nota_2 = 6\n",
        "\n",
        "nota_1\n",
        "nota_2\n",
        "\n",
        "# Calcula correctamente la nota_final (no modifiques el nombre de la variable)\n",
        "nota_final = (nota_1 + nota_2) / 2\n",
        "nota_final"
      ],
      "metadata": {
        "id": "I8y-BDgfewr5"
      },
      "execution_count": null,
      "outputs": []
    },
    {
      "cell_type": "markdown",
      "source": [
        "#Solucion"
      ],
      "metadata": {
        "id": "PT2szbUZjXPp"
      }
    },
    {
      "cell_type": "code",
      "source": [
        "# Almacenamos la primera nota\n",
        "nota_1 = 10                                \n",
        "# Almacenamos la segunda nota\n",
        "nota_2 = 6    \n",
        "# Calculamos la suma de en tanto por uno de ambas notas                             \n",
        "nota_final = (nota_1*0.4 + nota_2*0.6)\n",
        " \n",
        "print(nota_final)"
      ],
      "metadata": {
        "colab": {
          "base_uri": "https://localhost:8080/"
        },
        "id": "k_7G0iq8hxWL",
        "outputId": "ebbfd911-810a-48b4-b443-49d797845abe"
      },
      "execution_count": 3,
      "outputs": [
        {
          "output_type": "stream",
          "name": "stdout",
          "text": [
            "7.6\n"
          ]
        }
      ]
    },
    {
      "cell_type": "code",
      "source": [],
      "metadata": {
        "id": "aTSH8cD-jbdw"
      },
      "execution_count": null,
      "outputs": []
    }
  ],
  "metadata": {
    "anaconda-cloud": {},
    "kernelspec": {
      "display_name": "Python [default]",
      "language": "python",
      "name": "python3"
    },
    "language_info": {
      "codemirror_mode": {
        "name": "ipython",
        "version": 3
      },
      "file_extension": ".py",
      "mimetype": "text/x-python",
      "name": "python",
      "nbconvert_exporter": "python",
      "pygments_lexer": "ipython3",
      "version": "3.5.2"
    },
    "colab": {
      "provenance": [],
      "include_colab_link": true
    }
  },
  "nbformat": 4,
  "nbformat_minor": 0
}