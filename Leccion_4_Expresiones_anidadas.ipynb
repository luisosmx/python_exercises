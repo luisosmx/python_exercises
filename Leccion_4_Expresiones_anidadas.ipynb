{
  "cells": [
    {
      "cell_type": "markdown",
      "metadata": {
        "id": "view-in-github",
        "colab_type": "text"
      },
      "source": [
        "<a href=\"https://colab.research.google.com/github/luisosmx/python_exercises/blob/main/Leccion_4_Expresiones_anidadas.ipynb\" target=\"_parent\"><img src=\"https://colab.research.google.com/assets/colab-badge.svg\" alt=\"Open In Colab\"/></a>"
      ]
    },
    {
      "cell_type": "markdown",
      "source": [
        "#Expresiones anidadas\n",
        "A partir de dos variables `nombre`  y `edad` crea una variable `expresion` que almacene si se cumplen TODAS las siguientes condiciones encadenando operadores lógicos en una sola línea:\n",
        "\n",
        "* Que `nombre` sea diferente de cuatro asteriscos.\n",
        "\n",
        "* Que `edad` sea mayor que 10 y a su vez menor que 18.\n",
        "\n",
        "* Que la longitud del `nombre` sea mayor o igual que 3 pero a la vez menor que 10.\n",
        "\n",
        "Nota: Utiliza paréntesis para encadenar diferentes conjuntos de expresiones lógicas entre ellas.\n",
        "\n",
        "Por cierto, en este ejercicio `edad` y `nombre` se cargarán durante la solución así que no sabes qué contienen, no les des ningún valor manualmente o el test fallará."
      ],
      "metadata": {
        "id": "hvNypPBGuOX7"
      }
    },
    {
      "cell_type": "code",
      "source": [
        "# no borres esta línea\n",
        "from evaluate import edad, nombre\n",
        "\n",
        "# completa el ejercicio\n",
        "expresion = (nombre != \"****\", len(nombre) >= 3 and len(nombre) < 10 ) and (edad > 10 and edad < 18)"
      ],
      "metadata": {
        "id": "kGa6o3ohumd5"
      },
      "execution_count": null,
      "outputs": []
    },
    {
      "cell_type": "code",
      "source": [],
      "metadata": {
        "id": "VZm7-eYxwiAv"
      },
      "execution_count": null,
      "outputs": []
    }
  ],
  "metadata": {
    "colab": {
      "provenance": [],
      "include_colab_link": true
    },
    "language_info": {
      "name": "python"
    },
    "kernelspec": {
      "name": "python3",
      "display_name": "Python 3"
    },
    "gpuClass": "standard"
  },
  "nbformat": 4,
  "nbformat_minor": 0
}