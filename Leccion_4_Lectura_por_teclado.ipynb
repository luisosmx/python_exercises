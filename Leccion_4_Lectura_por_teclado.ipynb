{
  "cells": [
    {
      "cell_type": "markdown",
      "metadata": {
        "id": "view-in-github",
        "colab_type": "text"
      },
      "source": [
        "<a href=\"https://colab.research.google.com/github/luisosmx/python_exercises/blob/main/Leccion_4_Lectura_por_teclado.ipynb\" target=\"_parent\"><img src=\"https://colab.research.google.com/assets/colab-badge.svg\" alt=\"Open In Colab\"/></a>"
      ]
    },
    {
      "cell_type": "markdown",
      "source": [
        "#Inputs\n",
        "Realiza un programa con los siguientes requisitos:\n",
        "\n",
        "* Debes leer por teclado dos cadenas de caracteres, una llamada `nombre` y \n",
        "otra llamada `apellido`.\n",
        "\n",
        "* Debes leer por teclado un número entero llamado `edad` (recuerda que la variable debe ser de tipo entero).\n",
        "\n",
        "* Debes leer por teclado un número flotante llamado `numero_magico`.\n",
        "\n",
        "* Finalmente debes crear una variable `cadena_final` con el siguiente formato:\n",
        "\n",
        "\n",
        "```\n",
        "NOMBRE APELLIDO: Tu número de la suerte es el EDAD*NUMERO_MAGICO\n",
        "```\n",
        "\n",
        "Por ejemplo, si se introducen los valores` \"Juan\", \"Pérez\", 20 y 4.5` , `cadena_final` contendrá lo siguiente:\n",
        "\n",
        "\n",
        "\n",
        "```\n",
        "Juan Pérez: Tu número de la suerte es el 90.0\n",
        "```\n",
        "\n",
        "**Nota**: En este ejercicio no tienes que intoducir ningún valor en los inputs, sólo programar correctamente las variables y generar la cadena_final tal como se pide. El sistema se encargará de introducir él mismo los valores en los inputs y comprobar que el resultado sea el esperado. Si lo necesitas puedes hacer conversiones entre formatos con las funciones `int, float y str`, esta última convierte números a cadenas, por ejemplo, `str(10)` devuelve `'10'`\n",
        "\n"
      ],
      "metadata": {
        "id": "-tNf8EVy8W87"
      }
    },
    {
      "cell_type": "code",
      "execution_count": 2,
      "metadata": {
        "collapsed": true,
        "colab": {
          "base_uri": "https://localhost:8080/"
        },
        "id": "EvbTN8ic4SPl",
        "outputId": "bf01d317-dded-4f56-959c-6cad322fd457"
      },
      "outputs": [
        {
          "name": "stdout",
          "output_type": "stream",
          "text": [
            "Luis\n"
          ]
        }
      ],
      "source": [
        "#leeemos el nombre y el apelldio en dos variables\n",
        "nombre = input()\n"
      ]
    },
    {
      "cell_type": "code",
      "source": [
        "apellido = input()"
      ],
      "metadata": {
        "colab": {
          "base_uri": "https://localhost:8080/"
        },
        "id": "RfKMAAzpEngT",
        "outputId": "4a9c670e-36c3-4e9e-a001-19fbd2770b0a"
      },
      "execution_count": 3,
      "outputs": [
        {
          "name": "stdout",
          "output_type": "stream",
          "text": [
            "Mejia\n"
          ]
        }
      ]
    },
    {
      "cell_type": "code",
      "source": [
        "#leemos la edad y la transformamos a un numero entero\n",
        "edad = int(input())"
      ],
      "metadata": {
        "colab": {
          "base_uri": "https://localhost:8080/"
        },
        "id": "TQh2Y0VYEsyL",
        "outputId": "9da6e773-c765-4de9-96a6-c06373b8c88e"
      },
      "execution_count": 13,
      "outputs": [
        {
          "name": "stdout",
          "output_type": "stream",
          "text": [
            "32\n"
          ]
        }
      ]
    },
    {
      "cell_type": "code",
      "source": [
        "#leemos un numero y lo transformamos a flotante \n",
        "numero_magico = float(input())\n"
      ],
      "metadata": {
        "colab": {
          "base_uri": "https://localhost:8080/"
        },
        "id": "m1uOZNYaExeT",
        "outputId": "6b3d09da-1b5f-45b1-bdd5-976bb77c0546"
      },
      "execution_count": 15,
      "outputs": [
        {
          "name": "stdout",
          "output_type": "stream",
          "text": [
            "16\n"
          ]
        }
      ]
    },
    {
      "cell_type": "code",
      "source": [
        "#generamos la cadena_final sumando la porcion calculada en forma de cadena\n",
        "\n",
        "cadena_final = nombre + \" \" + apellido + \": Tu numero de la suerte es el \" + str(edad*numero_magico)\n",
        "cadena_final"
      ],
      "metadata": {
        "colab": {
          "base_uri": "https://localhost:8080/",
          "height": 35
        },
        "id": "_gz8x3P1EW41",
        "outputId": "32ea7036-6cb9-407a-fbf7-27ce9b32886a"
      },
      "execution_count": 16,
      "outputs": [
        {
          "output_type": "execute_result",
          "data": {
            "text/plain": [
              "'Luis Mejia: Tu numero de la suerte es el 512.0'"
            ],
            "application/vnd.google.colaboratory.intrinsic+json": {
              "type": "string"
            }
          },
          "metadata": {},
          "execution_count": 16
        }
      ]
    },
    {
      "cell_type": "code",
      "source": [],
      "metadata": {
        "id": "LGaab0FSFNt3"
      },
      "execution_count": null,
      "outputs": []
    }
  ],
  "metadata": {
    "anaconda-cloud": {},
    "kernelspec": {
      "display_name": "Python [default]",
      "language": "python",
      "name": "python3"
    },
    "language_info": {
      "codemirror_mode": {
        "name": "ipython",
        "version": 3
      },
      "file_extension": ".py",
      "mimetype": "text/x-python",
      "name": "python",
      "nbconvert_exporter": "python",
      "pygments_lexer": "ipython3",
      "version": "3.5.1"
    },
    "colab": {
      "provenance": [],
      "include_colab_link": true
    }
  },
  "nbformat": 4,
  "nbformat_minor": 0
}