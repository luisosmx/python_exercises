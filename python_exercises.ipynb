{
  "nbformat": 4,
  "nbformat_minor": 0,
  "metadata": {
    "colab": {
      "provenance": [],
      "authorship_tag": "ABX9TyPBYCgzoF8nEe5sVxXXK8G7",
      "include_colab_link": true
    },
    "kernelspec": {
      "name": "python3",
      "display_name": "Python 3"
    },
    "language_info": {
      "name": "python"
    }
  },
  "cells": [
    {
      "cell_type": "markdown",
      "metadata": {
        "id": "view-in-github",
        "colab_type": "text"
      },
      "source": [
        "<a href=\"https://colab.research.google.com/github/luisosmx/python_exercises/blob/main/python_exercises.ipynb\" target=\"_parent\"><img src=\"https://colab.research.google.com/assets/colab-badge.svg\" alt=\"Open In Colab\"/></a>"
      ]
    },
    {
      "cell_type": "markdown",
      "source": [
        "1. Write a Python program to print the following string in a specific format (see the output). Go to the editor\n",
        "Sample String : \"Twinkle, twinkle, little star, How I wonder what you are! Up above the world so high, Like a diamond in the sky. Twinkle, twinkle, little star, How I wonder what you are\" \n",
        "\n",
        ">Output :\n",
        "\n",
        "\n",
        "> ```\n",
        "Twinkle, twinkle, little star,\n",
        "\tHow I wonder what you are! \n",
        "\t\tUp above the world so high,   \t\t\n",
        "\t\tLike a diamond in the sky. \n",
        "Twinkle, twinkle, little star, \n",
        "\tHow I wonder what you are \n",
        "```\n",
        "\n",
        "\n",
        "\n",
        "\n"
      ],
      "metadata": {
        "id": "SvvSteoqSnAs"
      }
    },
    {
      "cell_type": "code",
      "source": [
        "frase1 = \"Twinkle, twinkle, little star\" \n",
        "frase2 = \"How I wonder what you are!\"\n",
        "frase3 = \"Up above the world so high\"\n",
        "frase4 = \"Like a diamond in the sky.\"\n",
        "frase5 = \"Twinkle, twinkle, little star\"\n",
        "frase6 = \"How I wonder what you are\"\n",
        "\n",
        "print(frase1, frase2)"
      ],
      "metadata": {
        "colab": {
          "base_uri": "https://localhost:8080/"
        },
        "id": "pVviQvp8Su6j",
        "outputId": "82aab3a0-d629-40fb-e7f7-eac44c5956fe"
      },
      "execution_count": 25,
      "outputs": [
        {
          "output_type": "stream",
          "name": "stdout",
          "text": [
            "Twinkle, twinkle, little star How I wonder what you are!\n"
          ]
        }
      ]
    },
    {
      "cell_type": "code",
      "source": [
        "print('{}{}{}{}{}{}{}{}{}{}{}{}{}{}{}{}{}'.format(frase1, '\\n', '\\t', frase2, '\\n', '\\t', '\\t', frase3, '\\n', '\\t', '\\t', frase4, '\\n', frase5, '\\n', '\\t', frase6))"
      ],
      "metadata": {
        "colab": {
          "base_uri": "https://localhost:8080/"
        },
        "id": "CMzGctQAVMO-",
        "outputId": "2b87f964-7658-4d5b-83d6-c7f6806dd59d"
      },
      "execution_count": 29,
      "outputs": [
        {
          "output_type": "stream",
          "name": "stdout",
          "text": [
            "Twinkle, twinkle, little star\n",
            "\tHow I wonder what you are!\n",
            "\t\tUp above the world so high\n",
            "\t\tLike a diamond in the sky.\n",
            "Twinkle, twinkle, little star\n",
            "\tHow I wonder what you are\n"
          ]
        }
      ]
    },
    {
      "cell_type": "markdown",
      "source": [
        "* Use this when you want to add a line in the code: `'\\n'`\n",
        "\n",
        "* Use this when you want to add a tab in the code: `'\\t'`\n",
        "\n",
        "* Every time an element is added to the code, the following should be added: `{}`\n",
        "\n",
        "\n",
        "\n",
        "\n"
      ],
      "metadata": {
        "id": "gSatGdWQbQEs"
      }
    },
    {
      "cell_type": "code",
      "source": [
        "print(\"Twinkle, twinkle, little star, \\n\\tHow I wonder what you are! \\n\\t\\tUp above the world so high, \\n\\t\\tLike a diamond in the sky. \\nTwinkle, twinkle, little star, \\n\\tHow I wonder what you are!\")\n",
        "\n"
      ],
      "metadata": {
        "colab": {
          "base_uri": "https://localhost:8080/"
        },
        "id": "UTzlGBLuWWNL",
        "outputId": "0ffaf8b5-ff9f-4ead-ec91-90673fac7a38"
      },
      "execution_count": 30,
      "outputs": [
        {
          "output_type": "stream",
          "name": "stdout",
          "text": [
            "Twinkle, twinkle, little star, \n",
            "\tHow I wonder what you are! \n",
            "\t\tUp above the world so high, \n",
            "\t\tLike a diamond in the sky. \n",
            "Twinkle, twinkle, little star, \n",
            "\tHow I wonder what you are!\n"
          ]
        }
      ]
    },
    {
      "cell_type": "markdown",
      "source": [
        "The previous code is another way to solve this problem"
      ],
      "metadata": {
        "id": "KRmbpO_mfgNo"
      }
    },
    {
      "cell_type": "code",
      "source": [],
      "metadata": {
        "id": "cTI-CugFfe18"
      },
      "execution_count": null,
      "outputs": []
    }
  ]
}