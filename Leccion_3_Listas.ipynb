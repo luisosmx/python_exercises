{
  "cells": [
    {
      "cell_type": "markdown",
      "metadata": {
        "id": "view-in-github",
        "colab_type": "text"
      },
      "source": [
        "<a href=\"https://colab.research.google.com/github/luisosmx/python_exercises/blob/main/Leccion_3_Listas.ipynb\" target=\"_parent\"><img src=\"https://colab.research.google.com/assets/colab-badge.svg\" alt=\"Open In Colab\"/></a>"
      ]
    },
    {
      "cell_type": "markdown",
      "source": [
        "#Listas\n",
        "Dadas dos listas lista1 y lista2 debes realizar diferentes tareas por el orden indicado:\n",
        "\n",
        "\n",
        "\n",
        "1.   Añade a la lista1 el número 1234 y luego el texto Hola.\n",
        "2.   Añade a la lista2 el texto Adiós y luego el número 1234.\n",
        "3.   Genera una lista3 con todos los elementos de la lista1 excepto el último.\n",
        "4. Genera una lista4 con todos los elementos de la lista2 excepto el primero y el último.\n",
        "5. Genera una lista5 con los elementos de la lista4 más la lista3.\n",
        "\n",
        "Los nombres de las variables deben ser los que se especifican o el ejercicio no validará.\n",
        "\n"
      ],
      "metadata": {
        "id": "RfR_sUb_lLLP"
      }
    },
    {
      "cell_type": "code",
      "execution_count": 11,
      "metadata": {
        "collapsed": true,
        "colab": {
          "base_uri": "https://localhost:8080/"
        },
        "id": "4yM0fLQWJT18",
        "outputId": "d53e78c3-1dc4-46e7-cedd-1f5648709977"
      },
      "outputs": [
        {
          "output_type": "execute_result",
          "data": {
            "text/plain": [
              "[1, 12, 123, 1234]"
            ]
          },
          "metadata": {},
          "execution_count": 11
        }
      ],
      "source": [
        "# no modifiques el nombre de ninguna variable, puedes crear nuevas\n",
        "lista1 = [1, 12, 123]\n",
        "lista2 = [\"Bye\", \"Ciao\", \"Agur\", \"Adieu\"]\n",
        "\n",
        "# completa el ejercicio\n",
        "lista1.append(1234)\n",
        "lista1"
      ]
    },
    {
      "cell_type": "markdown",
      "source": [
        "Se agrega el contenido `1234` a la `lista1` por medio de la funcion `append()`"
      ],
      "metadata": {
        "id": "62QkdqhAqMZW"
      }
    },
    {
      "cell_type": "code",
      "source": [
        "lista1.append(\"hola\")\n",
        "lista1"
      ],
      "metadata": {
        "colab": {
          "base_uri": "https://localhost:8080/"
        },
        "id": "vjsmvWmXr6AG",
        "outputId": "f35bdfd4-8ce7-48a8-987c-1ad2f5d5f212"
      },
      "execution_count": 12,
      "outputs": [
        {
          "output_type": "execute_result",
          "data": {
            "text/plain": [
              "[1, 12, 123, 1234, 'hola']"
            ]
          },
          "metadata": {},
          "execution_count": 12
        }
      ]
    },
    {
      "cell_type": "markdown",
      "source": [
        "Se agrega la palabra `\"hola\"` a la `lista1`, utlizando el metodo anterior"
      ],
      "metadata": {
        "id": "bJ4aH23XsEpx"
      }
    },
    {
      "cell_type": "code",
      "source": [
        "lista2.append(\"adios\")\n",
        "lista2"
      ],
      "metadata": {
        "colab": {
          "base_uri": "https://localhost:8080/"
        },
        "id": "kWJrfRTjsBsj",
        "outputId": "af1a0e81-8660-442e-f5a8-a8971f649235"
      },
      "execution_count": 13,
      "outputs": [
        {
          "output_type": "execute_result",
          "data": {
            "text/plain": [
              "['Bye', 'Ciao', 'Agur', 'Adieu', 'adios']"
            ]
          },
          "metadata": {},
          "execution_count": 13
        }
      ]
    },
    {
      "cell_type": "code",
      "source": [
        "lista2.append(1234)\n",
        "lista2"
      ],
      "metadata": {
        "colab": {
          "base_uri": "https://localhost:8080/"
        },
        "id": "lwBslaeytYo6",
        "outputId": "8ca875fe-a248-4928-e62f-8e77206076c7"
      },
      "execution_count": 14,
      "outputs": [
        {
          "output_type": "execute_result",
          "data": {
            "text/plain": [
              "['Bye', 'Ciao', 'Agur', 'Adieu', 'adios', 1234]"
            ]
          },
          "metadata": {},
          "execution_count": 14
        }
      ]
    },
    {
      "cell_type": "code",
      "source": [
        "lista3 = lista1[:4]\n",
        "lista3"
      ],
      "metadata": {
        "colab": {
          "base_uri": "https://localhost:8080/"
        },
        "id": "UxYScmoZtft0",
        "outputId": "00b6084f-1028-4547-f6a2-4b1eff11a555"
      },
      "execution_count": 15,
      "outputs": [
        {
          "output_type": "execute_result",
          "data": {
            "text/plain": [
              "[1, 12, 123, 1234]"
            ]
          },
          "metadata": {},
          "execution_count": 15
        }
      ]
    },
    {
      "cell_type": "code",
      "source": [
        "lista4 = lista2[1:5]\n",
        "lista4"
      ],
      "metadata": {
        "colab": {
          "base_uri": "https://localhost:8080/"
        },
        "id": "KeNF00Wyuju8",
        "outputId": "7a372857-1e5c-4f31-96ef-c16ffaf34bea"
      },
      "execution_count": 17,
      "outputs": [
        {
          "output_type": "execute_result",
          "data": {
            "text/plain": [
              "['Ciao', 'Agur', 'Adieu', 'adios']"
            ]
          },
          "metadata": {},
          "execution_count": 17
        }
      ]
    },
    {
      "cell_type": "code",
      "source": [
        "lista5 = lista4 + lista3\n",
        "lista5"
      ],
      "metadata": {
        "colab": {
          "base_uri": "https://localhost:8080/"
        },
        "id": "MfHyQFuevAmY",
        "outputId": "1eb39b09-8241-4611-d0bd-e0376f67f887"
      },
      "execution_count": 21,
      "outputs": [
        {
          "output_type": "execute_result",
          "data": {
            "text/plain": [
              "['Ciao', 'Agur', 'Adieu', 'adios', 1, 12, 123, 1234]"
            ]
          },
          "metadata": {},
          "execution_count": 21
        }
      ]
    },
    {
      "cell_type": "code",
      "source": [],
      "metadata": {
        "id": "g0clwgaqvLiT"
      },
      "execution_count": null,
      "outputs": []
    }
  ],
  "metadata": {
    "anaconda-cloud": {},
    "kernelspec": {
      "display_name": "Python [default]",
      "language": "python",
      "name": "python3"
    },
    "language_info": {
      "codemirror_mode": {
        "name": "ipython",
        "version": 3
      },
      "file_extension": ".py",
      "mimetype": "text/x-python",
      "name": "python",
      "nbconvert_exporter": "python",
      "pygments_lexer": "ipython3",
      "version": "3.5.2"
    },
    "colab": {
      "provenance": [],
      "include_colab_link": true
    }
  },
  "nbformat": 4,
  "nbformat_minor": 0
}