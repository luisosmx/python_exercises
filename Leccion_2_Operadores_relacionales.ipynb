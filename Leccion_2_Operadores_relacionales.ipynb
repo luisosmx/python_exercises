{
  "cells": [
    {
      "cell_type": "markdown",
      "metadata": {
        "id": "view-in-github",
        "colab_type": "text"
      },
      "source": [
        "<a href=\"https://colab.research.google.com/github/luisosmx/python_exercises/blob/main/Leccion_2_Operadores_relacionales.ipynb\" target=\"_parent\"><img src=\"https://colab.research.google.com/assets/colab-badge.svg\" alt=\"Open In Colab\"/></a>"
      ]
    },
    {
      "cell_type": "markdown",
      "source": [
        "#Operadores relacionales\n",
        "En una lista llamada expresiones encontramos diferentes operaciones relacionales, ¿podrías determinar mentalmente el resultado de cada expresión y almacenarlo en una nueva lista llamada resultados? Esta lista debe contener únicamente valores lógicos `True` y `False`. Por ejemplo, supongamos esta lista:\n",
        "\n",
        "`expresiones = [1 == 1, 1 < 0]`\n",
        "\n",
        "La respuesta que se espera que escribas es:\n",
        "\n",
        "`resultados = [True, False]`\n",
        "\n",
        "Correspondiendo `True` al resultado de 1==1 y False al de 1<0,  es decir, los resultados deben concordar con la posición de las expresiones, siendo resultados[0] la respuesta a la expresión expresiones[0].\n",
        "\n",
        "La lista de expresiones que debes calcular mentalmente es la siguiente (se importará automáticamente durante la comprobación de la solución):\n",
        "\n",
        "`expresiones = [False == True, 10 >= 2*4, 33/3 == 11, True > False, True*5 == 2.5*2]`\n",
        "\n",
        "Sugerencia: ¿Eres muy perezos@ como para pensar? ¡Deja que Python calcule las expresiones por ti!"
      ],
      "metadata": {
        "id": "pVJWi_N93rCs"
      }
    },
    {
      "cell_type": "code",
      "source": [
        "# no borres esta línea\n",
        "from evaluate import expresiones\n",
        "\n",
        "# completa el ejercicio\n",
        "expresiones = [False == True, 10 >= 2*4, 33/3 == 11, True > False, True*5 == 2.5*2]\n",
        "resultados = [False, True, True, True, True]"
      ],
      "metadata": {
        "id": "LuCd4BKuxfhE"
      },
      "execution_count": null,
      "outputs": []
    },
    {
      "cell_type": "code",
      "source": [],
      "metadata": {
        "id": "kzK-Txa77-Rm"
      },
      "execution_count": null,
      "outputs": []
    }
  ],
  "metadata": {
    "colab": {
      "provenance": [],
      "include_colab_link": true
    },
    "language_info": {
      "name": "python"
    },
    "kernelspec": {
      "name": "python3",
      "display_name": "Python 3"
    },
    "gpuClass": "standard"
  },
  "nbformat": 4,
  "nbformat_minor": 0
}